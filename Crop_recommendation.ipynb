{
 "cells": [
  {
   "cell_type": "code",
   "execution_count": null,
   "id": "69f2f104-31c3-47a6-89b2-95d0a25984a3",
   "metadata": {},
   "outputs": [],
   "source": [
    "import pandas as pd\n",
    "import matplotlib.pyplot as plt\n",
    "import seaborn as sns\n",
    "from sklearn.preprocessing import LabelEncoder\n",
    "from xgboost import XGBClassifier\n",
    "from sklearn.model_selection import StratifiedKFold, cross_val_score, cross_validate, train_test_split\n",
    "from sklearn.metrics import make_scorer, precision_score, recall_score\n",
    "from sklearn.metrics import accuracy_score, classification_report, confusion_matrix\n",
    "import matplotlib.pyplot as plt\n",
    "import seaborn as sns\n",
    "import numpy as np\n",
    "from sklearn.ensemble import RandomForestClassifier\n",
    "import pickle"
   ]
  },
  {
   "cell_type": "code",
   "execution_count": 1,
   "id": "7e9b42af-df32-4793-b044-93ffa4394487",
   "metadata": {},
   "outputs": [
    {
     "name": "stdout",
     "output_type": "stream",
     "text": [
      "Num GPUs Available: 1\n"
     ]
    }
   ],
   "source": [
    "import tensorflow as tf\n",
    "\n",
    "# Check available GPUs\n",
    "print(\"Num GPUs Available:\", len(tf.config.list_physical_devices('GPU')))\n"
   ]
  },
  {
   "cell_type": "code",
   "execution_count": 4,
   "id": "92270e52-e759-40b1-a772-1e4636d69a3d",
   "metadata": {},
   "outputs": [],
   "source": [
    "df = pd.read_csv('Crop_recommendation.csv')"
   ]
  },
  {
   "cell_type": "code",
   "execution_count": 5,
   "id": "1a4f8838-2b2f-4051-a6fc-3de89ea3d9db",
   "metadata": {},
   "outputs": [
    {
     "data": {
      "text/html": [
       "<div>\n",
       "<style scoped>\n",
       "    .dataframe tbody tr th:only-of-type {\n",
       "        vertical-align: middle;\n",
       "    }\n",
       "\n",
       "    .dataframe tbody tr th {\n",
       "        vertical-align: top;\n",
       "    }\n",
       "\n",
       "    .dataframe thead th {\n",
       "        text-align: right;\n",
       "    }\n",
       "</style>\n",
       "<table border=\"1\" class=\"dataframe\">\n",
       "  <thead>\n",
       "    <tr style=\"text-align: right;\">\n",
       "      <th></th>\n",
       "      <th>N</th>\n",
       "      <th>P</th>\n",
       "      <th>K</th>\n",
       "      <th>temperature</th>\n",
       "      <th>humidity</th>\n",
       "      <th>ph</th>\n",
       "      <th>rainfall</th>\n",
       "      <th>label</th>\n",
       "    </tr>\n",
       "  </thead>\n",
       "  <tbody>\n",
       "    <tr>\n",
       "      <th>0</th>\n",
       "      <td>90</td>\n",
       "      <td>42</td>\n",
       "      <td>43</td>\n",
       "      <td>20.879744</td>\n",
       "      <td>82.002744</td>\n",
       "      <td>6.502985</td>\n",
       "      <td>202.935536</td>\n",
       "      <td>rice</td>\n",
       "    </tr>\n",
       "    <tr>\n",
       "      <th>1</th>\n",
       "      <td>85</td>\n",
       "      <td>58</td>\n",
       "      <td>41</td>\n",
       "      <td>21.770462</td>\n",
       "      <td>80.319644</td>\n",
       "      <td>7.038096</td>\n",
       "      <td>226.655537</td>\n",
       "      <td>rice</td>\n",
       "    </tr>\n",
       "    <tr>\n",
       "      <th>2</th>\n",
       "      <td>60</td>\n",
       "      <td>55</td>\n",
       "      <td>44</td>\n",
       "      <td>23.004459</td>\n",
       "      <td>82.320763</td>\n",
       "      <td>7.840207</td>\n",
       "      <td>263.964248</td>\n",
       "      <td>rice</td>\n",
       "    </tr>\n",
       "    <tr>\n",
       "      <th>3</th>\n",
       "      <td>74</td>\n",
       "      <td>35</td>\n",
       "      <td>40</td>\n",
       "      <td>26.491096</td>\n",
       "      <td>80.158363</td>\n",
       "      <td>6.980401</td>\n",
       "      <td>242.864034</td>\n",
       "      <td>rice</td>\n",
       "    </tr>\n",
       "    <tr>\n",
       "      <th>4</th>\n",
       "      <td>78</td>\n",
       "      <td>42</td>\n",
       "      <td>42</td>\n",
       "      <td>20.130175</td>\n",
       "      <td>81.604873</td>\n",
       "      <td>7.628473</td>\n",
       "      <td>262.717340</td>\n",
       "      <td>rice</td>\n",
       "    </tr>\n",
       "  </tbody>\n",
       "</table>\n",
       "</div>"
      ],
      "text/plain": [
       "    N   P   K  temperature   humidity        ph    rainfall label\n",
       "0  90  42  43    20.879744  82.002744  6.502985  202.935536  rice\n",
       "1  85  58  41    21.770462  80.319644  7.038096  226.655537  rice\n",
       "2  60  55  44    23.004459  82.320763  7.840207  263.964248  rice\n",
       "3  74  35  40    26.491096  80.158363  6.980401  242.864034  rice\n",
       "4  78  42  42    20.130175  81.604873  7.628473  262.717340  rice"
      ]
     },
     "execution_count": 5,
     "metadata": {},
     "output_type": "execute_result"
    }
   ],
   "source": [
    "df.head(5)"
   ]
  },
  {
   "cell_type": "code",
   "execution_count": 6,
   "id": "542845e2-54b7-4f9b-9d5a-10c45a6909a4",
   "metadata": {},
   "outputs": [
    {
     "data": {
      "text/html": [
       "<div>\n",
       "<style scoped>\n",
       "    .dataframe tbody tr th:only-of-type {\n",
       "        vertical-align: middle;\n",
       "    }\n",
       "\n",
       "    .dataframe tbody tr th {\n",
       "        vertical-align: top;\n",
       "    }\n",
       "\n",
       "    .dataframe thead th {\n",
       "        text-align: right;\n",
       "    }\n",
       "</style>\n",
       "<table border=\"1\" class=\"dataframe\">\n",
       "  <thead>\n",
       "    <tr style=\"text-align: right;\">\n",
       "      <th></th>\n",
       "      <th>N</th>\n",
       "      <th>P</th>\n",
       "      <th>K</th>\n",
       "      <th>temperature</th>\n",
       "      <th>humidity</th>\n",
       "      <th>ph</th>\n",
       "      <th>rainfall</th>\n",
       "    </tr>\n",
       "  </thead>\n",
       "  <tbody>\n",
       "    <tr>\n",
       "      <th>count</th>\n",
       "      <td>2200.000000</td>\n",
       "      <td>2200.000000</td>\n",
       "      <td>2200.000000</td>\n",
       "      <td>2200.000000</td>\n",
       "      <td>2200.000000</td>\n",
       "      <td>2200.000000</td>\n",
       "      <td>2200.000000</td>\n",
       "    </tr>\n",
       "    <tr>\n",
       "      <th>mean</th>\n",
       "      <td>50.551818</td>\n",
       "      <td>53.362727</td>\n",
       "      <td>48.149091</td>\n",
       "      <td>25.616244</td>\n",
       "      <td>71.481779</td>\n",
       "      <td>6.469480</td>\n",
       "      <td>103.463655</td>\n",
       "    </tr>\n",
       "    <tr>\n",
       "      <th>std</th>\n",
       "      <td>36.917334</td>\n",
       "      <td>32.985883</td>\n",
       "      <td>50.647931</td>\n",
       "      <td>5.063749</td>\n",
       "      <td>22.263812</td>\n",
       "      <td>0.773938</td>\n",
       "      <td>54.958389</td>\n",
       "    </tr>\n",
       "    <tr>\n",
       "      <th>min</th>\n",
       "      <td>0.000000</td>\n",
       "      <td>5.000000</td>\n",
       "      <td>5.000000</td>\n",
       "      <td>8.825675</td>\n",
       "      <td>14.258040</td>\n",
       "      <td>3.504752</td>\n",
       "      <td>20.211267</td>\n",
       "    </tr>\n",
       "    <tr>\n",
       "      <th>25%</th>\n",
       "      <td>21.000000</td>\n",
       "      <td>28.000000</td>\n",
       "      <td>20.000000</td>\n",
       "      <td>22.769375</td>\n",
       "      <td>60.261953</td>\n",
       "      <td>5.971693</td>\n",
       "      <td>64.551686</td>\n",
       "    </tr>\n",
       "    <tr>\n",
       "      <th>50%</th>\n",
       "      <td>37.000000</td>\n",
       "      <td>51.000000</td>\n",
       "      <td>32.000000</td>\n",
       "      <td>25.598693</td>\n",
       "      <td>80.473146</td>\n",
       "      <td>6.425045</td>\n",
       "      <td>94.867624</td>\n",
       "    </tr>\n",
       "    <tr>\n",
       "      <th>75%</th>\n",
       "      <td>84.250000</td>\n",
       "      <td>68.000000</td>\n",
       "      <td>49.000000</td>\n",
       "      <td>28.561654</td>\n",
       "      <td>89.948771</td>\n",
       "      <td>6.923643</td>\n",
       "      <td>124.267508</td>\n",
       "    </tr>\n",
       "    <tr>\n",
       "      <th>max</th>\n",
       "      <td>140.000000</td>\n",
       "      <td>145.000000</td>\n",
       "      <td>205.000000</td>\n",
       "      <td>43.675493</td>\n",
       "      <td>99.981876</td>\n",
       "      <td>9.935091</td>\n",
       "      <td>298.560117</td>\n",
       "    </tr>\n",
       "  </tbody>\n",
       "</table>\n",
       "</div>"
      ],
      "text/plain": [
       "                 N            P            K  temperature     humidity  \\\n",
       "count  2200.000000  2200.000000  2200.000000  2200.000000  2200.000000   \n",
       "mean     50.551818    53.362727    48.149091    25.616244    71.481779   \n",
       "std      36.917334    32.985883    50.647931     5.063749    22.263812   \n",
       "min       0.000000     5.000000     5.000000     8.825675    14.258040   \n",
       "25%      21.000000    28.000000    20.000000    22.769375    60.261953   \n",
       "50%      37.000000    51.000000    32.000000    25.598693    80.473146   \n",
       "75%      84.250000    68.000000    49.000000    28.561654    89.948771   \n",
       "max     140.000000   145.000000   205.000000    43.675493    99.981876   \n",
       "\n",
       "                ph     rainfall  \n",
       "count  2200.000000  2200.000000  \n",
       "mean      6.469480   103.463655  \n",
       "std       0.773938    54.958389  \n",
       "min       3.504752    20.211267  \n",
       "25%       5.971693    64.551686  \n",
       "50%       6.425045    94.867624  \n",
       "75%       6.923643   124.267508  \n",
       "max       9.935091   298.560117  "
      ]
     },
     "execution_count": 6,
     "metadata": {},
     "output_type": "execute_result"
    }
   ],
   "source": [
    "df.describe()"
   ]
  },
  {
   "cell_type": "code",
   "execution_count": 7,
   "id": "5c58b783-8441-4991-bf9e-3f78d241e9e4",
   "metadata": {},
   "outputs": [],
   "source": [
    "A = df.drop(columns=[\"label\"])"
   ]
  },
  {
   "cell_type": "code",
   "execution_count": 8,
   "id": "932038c0-6460-47b4-a638-30f5919ea76b",
   "metadata": {
    "scrolled": true
   },
   "outputs": [],
   "source": [
    "corr_matrix = A.corr()"
   ]
  },
  {
   "cell_type": "code",
   "execution_count": 9,
   "id": "f78841c2-2690-44bd-95fc-0f479c2e4bb1",
   "metadata": {},
   "outputs": [
    {
     "data": {
      "image/png": "[encoded data removed]",
      "text/plain": [
       "<Figure size 800x600 with 2 Axes>"
      ]
     },
     "metadata": {},
     "output_type": "display_data"
    }
   ],
   "source": [
    "plt.figure(figsize=(8,6))\n",
    "sns.heatmap(corr_matrix, annot=True, cmap='coolwarm', fmt=\".2f\", linewidth=0.5)\n",
    "plt.title(\"Correlation Matrix\")\n",
    "plt.show()"
   ]
  },
  {
   "cell_type": "code",
   "execution_count": 10,
   "id": "5a507160-4134-4cc3-83a2-2df52ab72426",
   "metadata": {},
   "outputs": [
    {
     "data": {
      "text/plain": [
       "N              0\n",
       "P              0\n",
       "K              0\n",
       "temperature    0\n",
       "humidity       0\n",
       "ph             0\n",
       "rainfall       0\n",
       "label          0\n",
       "dtype: int64"
      ]
     },
     "execution_count": 10,
     "metadata": {},
     "output_type": "execute_result"
    }
   ],
   "source": [
    "df.isnull().sum()"
   ]
  },
  {
   "cell_type": "code",
   "execution_count": null,
   "id": "66d3ad42-2b5d-4123-835a-a33b84c1ce82",
   "metadata": {},
   "outputs": [],
   "source": []
  },
  {
   "cell_type": "code",
   "execution_count": 11,
   "id": "291543d1-bed6-4e9e-8c29-141549e273fe",
   "metadata": {},
   "outputs": [
    {
     "data": {
      "text/plain": [
       "label\n",
       "rice           100\n",
       "maize          100\n",
       "jute           100\n",
       "cotton         100\n",
       "coconut        100\n",
       "papaya         100\n",
       "orange         100\n",
       "apple          100\n",
       "muskmelon      100\n",
       "watermelon     100\n",
       "grapes         100\n",
       "mango          100\n",
       "banana         100\n",
       "pomegranate    100\n",
       "lentil         100\n",
       "blackgram      100\n",
       "mungbean       100\n",
       "mothbeans      100\n",
       "pigeonpeas     100\n",
       "kidneybeans    100\n",
       "chickpea       100\n",
       "coffee         100\n",
       "Name: count, dtype: int64"
      ]
     },
     "execution_count": 11,
     "metadata": {},
     "output_type": "execute_result"
    }
   ],
   "source": [
    "df['label'].value_counts()"
   ]
  },
  {
   "cell_type": "code",
   "execution_count": 15,
   "id": "2e1ddbec-dae7-4c78-9634-a63674d4d9f6",
   "metadata": {},
   "outputs": [
    {
     "data": {
      "text/plain": [
       "N              0.509721\n",
       "P              1.010773\n",
       "K              2.375167\n",
       "temperature    0.184933\n",
       "humidity      -1.091708\n",
       "ph             0.283929\n",
       "rainfall       0.965756\n",
       "dtype: float64"
      ]
     },
     "execution_count": 15,
     "metadata": {},
     "output_type": "execute_result"
    }
   ],
   "source": [
    "A.skew()"
   ]
  },
  {
   "cell_type": "code",
   "execution_count": 16,
   "id": "e464a4b7-8625-4877-a97a-0499d04da215",
   "metadata": {},
   "outputs": [],
   "source": [
    "X = df.drop(columns=['label'])"
   ]
  },
  {
   "cell_type": "code",
   "execution_count": 17,
   "id": "566096c3-8ffc-4e32-85e5-89509001ea15",
   "metadata": {},
   "outputs": [
    {
     "data": {
      "text/html": [
       "<div>\n",
       "<style scoped>\n",
       "    .dataframe tbody tr th:only-of-type {\n",
       "        vertical-align: middle;\n",
       "    }\n",
       "\n",
       "    .dataframe tbody tr th {\n",
       "        vertical-align: top;\n",
       "    }\n",
       "\n",
       "    .dataframe thead th {\n",
       "        text-align: right;\n",
       "    }\n",
       "</style>\n",
       "<table border=\"1\" class=\"dataframe\">\n",
       "  <thead>\n",
       "    <tr style=\"text-align: right;\">\n",
       "      <th></th>\n",
       "      <th>N</th>\n",
       "      <th>P</th>\n",
       "      <th>K</th>\n",
       "      <th>temperature</th>\n",
       "      <th>humidity</th>\n",
       "      <th>ph</th>\n",
       "      <th>rainfall</th>\n",
       "    </tr>\n",
       "  </thead>\n",
       "  <tbody>\n",
       "    <tr>\n",
       "      <th>0</th>\n",
       "      <td>90</td>\n",
       "      <td>42</td>\n",
       "      <td>43</td>\n",
       "      <td>20.879744</td>\n",
       "      <td>82.002744</td>\n",
       "      <td>6.502985</td>\n",
       "      <td>202.935536</td>\n",
       "    </tr>\n",
       "    <tr>\n",
       "      <th>1</th>\n",
       "      <td>85</td>\n",
       "      <td>58</td>\n",
       "      <td>41</td>\n",
       "      <td>21.770462</td>\n",
       "      <td>80.319644</td>\n",
       "      <td>7.038096</td>\n",
       "      <td>226.655537</td>\n",
       "    </tr>\n",
       "    <tr>\n",
       "      <th>2</th>\n",
       "      <td>60</td>\n",
       "      <td>55</td>\n",
       "      <td>44</td>\n",
       "      <td>23.004459</td>\n",
       "      <td>82.320763</td>\n",
       "      <td>7.840207</td>\n",
       "      <td>263.964248</td>\n",
       "    </tr>\n",
       "    <tr>\n",
       "      <th>3</th>\n",
       "      <td>74</td>\n",
       "      <td>35</td>\n",
       "      <td>40</td>\n",
       "      <td>26.491096</td>\n",
       "      <td>80.158363</td>\n",
       "      <td>6.980401</td>\n",
       "      <td>242.864034</td>\n",
       "    </tr>\n",
       "    <tr>\n",
       "      <th>4</th>\n",
       "      <td>78</td>\n",
       "      <td>42</td>\n",
       "      <td>42</td>\n",
       "      <td>20.130175</td>\n",
       "      <td>81.604873</td>\n",
       "      <td>7.628473</td>\n",
       "      <td>262.717340</td>\n",
       "    </tr>\n",
       "  </tbody>\n",
       "</table>\n",
       "</div>"
      ],
      "text/plain": [
       "    N   P   K  temperature   humidity        ph    rainfall\n",
       "0  90  42  43    20.879744  82.002744  6.502985  202.935536\n",
       "1  85  58  41    21.770462  80.319644  7.038096  226.655537\n",
       "2  60  55  44    23.004459  82.320763  7.840207  263.964248\n",
       "3  74  35  40    26.491096  80.158363  6.980401  242.864034\n",
       "4  78  42  42    20.130175  81.604873  7.628473  262.717340"
      ]
     },
     "execution_count": 17,
     "metadata": {},
     "output_type": "execute_result"
    }
   ],
   "source": [
    "X.head()"
   ]
  },
  {
   "cell_type": "code",
   "execution_count": 18,
   "id": "8266a897-7dda-4d61-bf0b-ee161e831504",
   "metadata": {},
   "outputs": [],
   "source": [
    "y = df['label']"
   ]
  },
  {
   "cell_type": "code",
   "execution_count": 19,
   "id": "77398a54-8ab7-48d0-9c0f-2a145bebbff6",
   "metadata": {},
   "outputs": [
    {
     "data": {
      "text/plain": [
       "0    rice\n",
       "1    rice\n",
       "2    rice\n",
       "3    rice\n",
       "4    rice\n",
       "Name: label, dtype: object"
      ]
     },
     "execution_count": 19,
     "metadata": {},
     "output_type": "execute_result"
    }
   ],
   "source": [
    "y.head()"
   ]
  },
  {
   "cell_type": "code",
   "execution_count": 20,
   "id": "5caf363e-f4a7-464f-bb7d-5c45044b51f9",
   "metadata": {},
   "outputs": [
    {
     "data": {
      "text/plain": [
       "pandas.core.series.Series"
      ]
     },
     "execution_count": 20,
     "metadata": {},
     "output_type": "execute_result"
    }
   ],
   "source": [
    "type(y)"
   ]
  },
  {
   "cell_type": "code",
   "execution_count": 21,
   "id": "bec9218a-2e04-4e1e-9e5a-277dd0004a98",
   "metadata": {},
   "outputs": [],
   "source": [
    "le = LabelEncoder()\n",
    "\n",
    "y = le.fit_transform(y)\n",
    "y=pd.Series(y)"
   ]
  },
  {
   "cell_type": "code",
   "execution_count": 22,
   "id": "cecb716b-d57a-4c0b-a6c5-381eccbed394",
   "metadata": {},
   "outputs": [
    {
     "data": {
      "text/plain": [
       "pandas.core.series.Series"
      ]
     },
     "execution_count": 22,
     "metadata": {},
     "output_type": "execute_result"
    }
   ],
   "source": [
    "type(y)"
   ]
  },
  {
   "cell_type": "code",
   "execution_count": 23,
   "id": "cdd48ed0-c685-4828-9a49-c46bfcb6b181",
   "metadata": {},
   "outputs": [
    {
     "name": "stdout",
     "output_type": "stream",
     "text": [
      "Mean accuracy: 0.9927272727272726\n"
     ]
    }
   ],
   "source": [
    "model = XGBClassifier(n_estimators=100, eval_metric=\"mlogloss\")\n",
    "cv = StratifiedKFold(n_splits=5, shuffle=True, random_state=42)\n",
    "\n",
    "scores = cross_val_score(model, X, y, cv=cv, scoring=\"accuracy\")\n",
    "print(\"Mean accuracy:\", scores.mean())"
   ]
  },
  {
   "cell_type": "code",
   "execution_count": 24,
   "id": "de286950-5e38-4c84-b482-a28936e004a9",
   "metadata": {},
   "outputs": [
    {
     "name": "stdout",
     "output_type": "stream",
     "text": [
      "Cross-validation scores: [0.99318182 0.98863636 0.99090909 0.99772727 0.99318182]\n"
     ]
    }
   ],
   "source": [
    "print(\"Cross-validation scores:\", scores)\n"
   ]
  },
  {
   "cell_type": "code",
   "execution_count": 25,
   "id": "e0916bff-7fdd-4a06-9884-80f3e6a13b44",
   "metadata": {},
   "outputs": [
    {
     "name": "stdout",
     "output_type": "stream",
     "text": [
      "Mean Accuracy: [0.99318182 0.98863636 0.99090909 0.99772727 0.99318182]\n",
      "Mean Precision: [0.99370327 0.98906926 0.9912764  0.9978355  0.99329004]\n",
      "Mean Recall: [0.99318182 0.98863636 0.99090909 0.99772727 0.99318182]\n"
     ]
    }
   ],
   "source": [
    "# Initialize model\n",
    "model = XGBClassifier(n_estimators=100, eval_metric=\"mlogloss\")\n",
    "\n",
    "# Stratified K-Fold Cross-Validation\n",
    "cv = StratifiedKFold(n_splits=5, shuffle=True, random_state=42)\n",
    "\n",
    "# Define scoring metrics\n",
    "scoring = {\n",
    "    \"accuracy\": \"accuracy\",\n",
    "    \"precision\": make_scorer(precision_score, average=\"weighted\"),\n",
    "    \"recall\": make_scorer(recall_score, average=\"weighted\")\n",
    "}\n",
    "\n",
    "# Perform cross-validation\n",
    "scores = cross_validate(model, X, y, cv=cv, scoring=scoring, return_train_score=False)\n",
    "\n",
    "# Print results\n",
    "print(\"Mean Accuracy:\", scores[\"test_accuracy\"])\n",
    "print(\"Mean Precision:\", scores[\"test_precision\"])\n",
    "print(\"Mean Recall:\", scores[\"test_recall\"])\n"
   ]
  },
  {
   "cell_type": "code",
   "execution_count": 26,
   "id": "0ca44406-1dd0-4f07-a603-446aab302493",
   "metadata": {},
   "outputs": [
    {
     "data": {
      "image/png": "[encoded data removed]",
      "text/plain": [
       "<Figure size 600x400 with 1 Axes>"
      ]
     },
     "metadata": {},
     "output_type": "display_data"
    },
    {
     "data": {
      "image/png": "[encoded data removed]",
      "text/plain": [
       "<Figure size 600x400 with 1 Axes>"
      ]
     },
     "metadata": {},
     "output_type": "display_data"
    },
    {
     "data": {
      "image/png": "[encoded data removed]",
      "text/plain": [
       "<Figure size 600x400 with 1 Axes>"
      ]
     },
     "metadata": {},
     "output_type": "display_data"
    },
    {
     "data": {
      "image/png": "[encoded data removed]",
      "text/plain": [
       "<Figure size 600x400 with 1 Axes>"
      ]
     },
     "metadata": {},
     "output_type": "display_data"
    },
    {
     "data": {
      "image/png": "[encoded data removed]",
      "text/plain": [
       "<Figure size 600x400 with 1 Axes>"
      ]
     },
     "metadata": {},
     "output_type": "display_data"
    },
    {
     "data": {
      "image/png": "[encoded data removed]",
      "text/plain": [
       "<Figure size 600x400 with 1 Axes>"
      ]
     },
     "metadata": {},
     "output_type": "display_data"
    },
    {
     "data": {
      "image/png": "[encoded data removed]",
      "text/plain": [
       "<Figure size 600x400 with 1 Axes>"
      ]
     },
     "metadata": {},
     "output_type": "display_data"
    }
   ],
   "source": [
    "for feature in [\"N\", \"P\", \"K\", \"ph\", \"rainfall\", \"temperature\", \"humidity\"]:\n",
    "    plt.figure(figsize=(6,4))\n",
    "    sns.boxplot(x=y, y=X[feature])\n",
    "    plt.title(f\"Distribution of {feature} across Classes\")\n",
    "    plt.show()\n"
   ]
  },
  {
   "cell_type": "code",
   "execution_count": 27,
   "id": "9c2363a1-3f36-4e2d-aed3-561008b1ffd8",
   "metadata": {},
   "outputs": [
    {
     "name": "stdout",
     "output_type": "stream",
     "text": [
      "Training set shape: (1760, 8)\n",
      "Test set shape: (440, 8)\n"
     ]
    }
   ],
   "source": [
    "n_classes = 22\n",
    "rows_per_class = 100\n",
    "test_fraction = 0.2  #20% of each class for testing\n",
    "test_rows = int(rows_per_class * test_fraction)\n",
    "\n",
    "train_list = []\n",
    "test_list = []\n",
    "\n",
    "for i in range(n_classes):\n",
    "    start = i * rows_per_class\n",
    "    end = (i + 1) * rows_per_class\n",
    "    class_data = df.iloc[start:end]\n",
    "    #shuffle\n",
    "    class_data = class_data.sample(frac=1, random_state=42).reset_index(drop=True)\n",
    "    \n",
    "    #split\n",
    "    test_data = class_data.iloc[:test_rows]\n",
    "    train_data = class_data.iloc[test_rows:]\n",
    "    \n",
    "    train_list.append(train_data)\n",
    "    test_list.append(test_data)\n",
    "\n",
    "#Concatenate\n",
    "train_df = pd.concat(train_list, ignore_index=True)\n",
    "test_df = pd.concat(test_list, ignore_index=True)\n",
    "\n",
    "print(\"Training set shape:\", train_df.shape)\n",
    "print(\"Test set shape:\", test_df.shape)\n"
   ]
  },
  {
   "cell_type": "code",
   "execution_count": 28,
   "id": "d7b6c5ed-fc34-42cc-9374-4a5e697ebb69",
   "metadata": {},
   "outputs": [
    {
     "name": "stdout",
     "output_type": "stream",
     "text": [
      "[0]\tvalidation_0-mlogloss:0.87893\tvalidation_1-mlogloss:0.94491\n",
      "[1]\tvalidation_0-mlogloss:0.62099\tvalidation_1-mlogloss:0.68898\n",
      "[2]\tvalidation_0-mlogloss:0.45317\tvalidation_1-mlogloss:0.51812\n",
      "[3]\tvalidation_0-mlogloss:0.33608\tvalidation_1-mlogloss:0.39718\n",
      "[4]\tvalidation_0-mlogloss:0.25164\tvalidation_1-mlogloss:0.31035\n",
      "[5]\tvalidation_0-mlogloss:0.19003\tvalidation_1-mlogloss:0.24682\n",
      "[6]\tvalidation_0-mlogloss:0.14473\tvalidation_1-mlogloss:0.19949\n",
      "[7]\tvalidation_0-mlogloss:0.11134\tvalidation_1-mlogloss:0.16396\n",
      "[8]\tvalidation_0-mlogloss:0.08641\tvalidation_1-mlogloss:0.13641\n",
      "[9]\tvalidation_0-mlogloss:0.06801\tvalidation_1-mlogloss:0.11601\n",
      "[10]\tvalidation_0-mlogloss:0.05409\tvalidation_1-mlogloss:0.10016\n",
      "[11]\tvalidation_0-mlogloss:0.04373\tvalidation_1-mlogloss:0.08804\n",
      "[12]\tvalidation_0-mlogloss:0.03586\tvalidation_1-mlogloss:0.07872\n",
      "[13]\tvalidation_0-mlogloss:0.02988\tvalidation_1-mlogloss:0.07189\n",
      "[14]\tvalidation_0-mlogloss:0.02526\tvalidation_1-mlogloss:0.06593\n",
      "[15]\tvalidation_0-mlogloss:0.02171\tvalidation_1-mlogloss:0.06025\n",
      "[16]\tvalidation_0-mlogloss:0.01901\tvalidation_1-mlogloss:0.05718\n",
      "[17]\tvalidation_0-mlogloss:0.01683\tvalidation_1-mlogloss:0.05512\n",
      "[18]\tvalidation_0-mlogloss:0.01511\tvalidation_1-mlogloss:0.05270\n",
      "[19]\tvalidation_0-mlogloss:0.01364\tvalidation_1-mlogloss:0.05085\n",
      "[20]\tvalidation_0-mlogloss:0.01244\tvalidation_1-mlogloss:0.04889\n",
      "[21]\tvalidation_0-mlogloss:0.01141\tvalidation_1-mlogloss:0.04714\n",
      "[22]\tvalidation_0-mlogloss:0.01062\tvalidation_1-mlogloss:0.04637\n",
      "[23]\tvalidation_0-mlogloss:0.00999\tvalidation_1-mlogloss:0.04518\n",
      "[24]\tvalidation_0-mlogloss:0.00949\tvalidation_1-mlogloss:0.04409\n",
      "[25]\tvalidation_0-mlogloss:0.00908\tvalidation_1-mlogloss:0.04340\n",
      "[26]\tvalidation_0-mlogloss:0.00880\tvalidation_1-mlogloss:0.04316\n",
      "[27]\tvalidation_0-mlogloss:0.00855\tvalidation_1-mlogloss:0.04275\n",
      "[28]\tvalidation_0-mlogloss:0.00834\tvalidation_1-mlogloss:0.04253\n",
      "[29]\tvalidation_0-mlogloss:0.00816\tvalidation_1-mlogloss:0.04249\n",
      "[30]\tvalidation_0-mlogloss:0.00802\tvalidation_1-mlogloss:0.04256\n",
      "[31]\tvalidation_0-mlogloss:0.00789\tvalidation_1-mlogloss:0.04246\n",
      "[32]\tvalidation_0-mlogloss:0.00777\tvalidation_1-mlogloss:0.04256\n",
      "[33]\tvalidation_0-mlogloss:0.00765\tvalidation_1-mlogloss:0.04263\n",
      "[34]\tvalidation_0-mlogloss:0.00755\tvalidation_1-mlogloss:0.04255\n",
      "[35]\tvalidation_0-mlogloss:0.00747\tvalidation_1-mlogloss:0.04274\n",
      "[36]\tvalidation_0-mlogloss:0.00739\tvalidation_1-mlogloss:0.04272\n",
      "[37]\tvalidation_0-mlogloss:0.00732\tvalidation_1-mlogloss:0.04270\n",
      "[38]\tvalidation_0-mlogloss:0.00726\tvalidation_1-mlogloss:0.04254\n",
      "[39]\tvalidation_0-mlogloss:0.00722\tvalidation_1-mlogloss:0.04258\n",
      "[40]\tvalidation_0-mlogloss:0.00717\tvalidation_1-mlogloss:0.04258\n",
      "Training Accuracy: 1.0\n",
      "Test Accuracy: 0.990909090909091\n",
      "\n",
      "Classification Report on Test Set:\n",
      "               precision    recall  f1-score   support\n",
      "\n",
      "       apple       0.95      1.00      0.98        20\n",
      "      banana       1.00      1.00      1.00        20\n",
      "   blackgram       0.95      1.00      0.98        20\n",
      "    chickpea       1.00      1.00      1.00        20\n",
      "     coconut       1.00      1.00      1.00        20\n",
      "      coffee       1.00      1.00      1.00        20\n",
      "      cotton       1.00      1.00      1.00        20\n",
      "      grapes       1.00      0.95      0.97        20\n",
      "        jute       0.95      1.00      0.98        20\n",
      " kidneybeans       1.00      1.00      1.00        20\n",
      "      lentil       1.00      0.95      0.97        20\n",
      "       maize       1.00      1.00      1.00        20\n",
      "       mango       1.00      1.00      1.00        20\n",
      "   mothbeans       1.00      1.00      1.00        20\n",
      "    mungbean       1.00      1.00      1.00        20\n",
      "   muskmelon       1.00      1.00      1.00        20\n",
      "      orange       1.00      1.00      1.00        20\n",
      "      papaya       1.00      1.00      1.00        20\n",
      "  pigeonpeas       1.00      0.95      0.97        20\n",
      " pomegranate       1.00      1.00      1.00        20\n",
      "        rice       0.95      0.95      0.95        20\n",
      "  watermelon       1.00      1.00      1.00        20\n",
      "\n",
      "    accuracy                           0.99       440\n",
      "   macro avg       0.99      0.99      0.99       440\n",
      "weighted avg       0.99      0.99      0.99       440\n",
      "\n"
     ]
    }
   ],
   "source": [
    "features = ['N', 'P', 'K', 'ph', 'temperature', 'humidity', 'rainfall']\n",
    "target = 'label'\n",
    "\n",
    "le = LabelEncoder()\n",
    "y_train = le.fit_transform(train_df[target])\n",
    "y_test = le.transform(test_df[target])\n",
    "X_train = train_df[features]\n",
    "X_test = test_df[features]\n",
    "\n",
    "model = xgb.XGBClassifier(\n",
    "    n_estimators=100,\n",
    "    random_state=42,\n",
    "    eval_metric='mlogloss',\n",
    "    early_stopping_rounds=10\n",
    ")\n",
    "\n",
    "model.fit(\n",
    "    X_train, y_train,\n",
    "    eval_set=[(X_train, y_train), (X_test, y_test)],\n",
    "    verbose=True\n",
    ")\n",
    "\n",
    "train_preds = model.predict(X_train)\n",
    "test_preds = model.predict(X_test)\n",
    "\n",
    "train_acc = accuracy_score(y_train, train_preds)\n",
    "test_acc = accuracy_score(y_test, test_preds)\n",
    "\n",
    "print(\"Training Accuracy:\", train_acc)\n",
    "print(\"Test Accuracy:\", test_acc)\n",
    "print(\"\\nClassification Report on Test Set:\\n\", \n",
    "      classification_report(y_test, test_preds, target_names=le.classes_))\n"
   ]
  },
  {
   "cell_type": "code",
   "execution_count": 29,
   "id": "13d24f21-7cdd-4b08-a1dd-5c162a877c6e",
   "metadata": {},
   "outputs": [
    {
     "name": "stdout",
     "output_type": "stream",
     "text": [
      "[0]\tvalidation_0-mlogloss:0.87893\tvalidation_1-mlogloss:0.94491\n",
      "[1]\tvalidation_0-mlogloss:0.62099\tvalidation_1-mlogloss:0.68898\n",
      "[2]\tvalidation_0-mlogloss:0.45317\tvalidation_1-mlogloss:0.51812\n"
     ]
    },
    {
     "name": "stderr",
     "output_type": "stream",
     "text": [
      "D:\\ENVS\\myenv\\lib\\site-packages\\xgboost\\core.py:158: UserWarning: [09:30:43] WARNING: C:\\buildkite-agent\\builds\\buildkite-windows-cpu-autoscaling-group-i-08cbc0333d8d4aae1-1\\xgboost\\xgboost-ci-windows\\src\\learner.cc:740: \n",
      "Parameters: { \"use_label_encoder\" } are not used.\n",
      "\n",
      "  warnings.warn(smsg, UserWarning)\n"
     ]
    },
    {
     "name": "stdout",
     "output_type": "stream",
     "text": [
      "[3]\tvalidation_0-mlogloss:0.33608\tvalidation_1-mlogloss:0.39718\n",
      "[4]\tvalidation_0-mlogloss:0.25164\tvalidation_1-mlogloss:0.31035\n",
      "[5]\tvalidation_0-mlogloss:0.19003\tvalidation_1-mlogloss:0.24682\n",
      "[6]\tvalidation_0-mlogloss:0.14473\tvalidation_1-mlogloss:0.19949\n",
      "[7]\tvalidation_0-mlogloss:0.11134\tvalidation_1-mlogloss:0.16396\n",
      "[8]\tvalidation_0-mlogloss:0.08641\tvalidation_1-mlogloss:0.13641\n",
      "[9]\tvalidation_0-mlogloss:0.06801\tvalidation_1-mlogloss:0.11601\n",
      "[10]\tvalidation_0-mlogloss:0.05409\tvalidation_1-mlogloss:0.10016\n",
      "[11]\tvalidation_0-mlogloss:0.04373\tvalidation_1-mlogloss:0.08804\n",
      "[12]\tvalidation_0-mlogloss:0.03586\tvalidation_1-mlogloss:0.07872\n",
      "[13]\tvalidation_0-mlogloss:0.02988\tvalidation_1-mlogloss:0.07189\n",
      "[14]\tvalidation_0-mlogloss:0.02526\tvalidation_1-mlogloss:0.06593\n",
      "[15]\tvalidation_0-mlogloss:0.02171\tvalidation_1-mlogloss:0.06025\n",
      "[16]\tvalidation_0-mlogloss:0.01901\tvalidation_1-mlogloss:0.05718\n",
      "[17]\tvalidation_0-mlogloss:0.01683\tvalidation_1-mlogloss:0.05512\n",
      "[18]\tvalidation_0-mlogloss:0.01511\tvalidation_1-mlogloss:0.05270\n",
      "[19]\tvalidation_0-mlogloss:0.01364\tvalidation_1-mlogloss:0.05085\n",
      "[20]\tvalidation_0-mlogloss:0.01244\tvalidation_1-mlogloss:0.04889\n",
      "[21]\tvalidation_0-mlogloss:0.01141\tvalidation_1-mlogloss:0.04714\n",
      "[22]\tvalidation_0-mlogloss:0.01062\tvalidation_1-mlogloss:0.04637\n",
      "[23]\tvalidation_0-mlogloss:0.00999\tvalidation_1-mlogloss:0.04518\n",
      "[24]\tvalidation_0-mlogloss:0.00949\tvalidation_1-mlogloss:0.04409\n",
      "[25]\tvalidation_0-mlogloss:0.00908\tvalidation_1-mlogloss:0.04340\n",
      "[26]\tvalidation_0-mlogloss:0.00880\tvalidation_1-mlogloss:0.04316\n",
      "[27]\tvalidation_0-mlogloss:0.00855\tvalidation_1-mlogloss:0.04275\n",
      "[28]\tvalidation_0-mlogloss:0.00834\tvalidation_1-mlogloss:0.04253\n",
      "[29]\tvalidation_0-mlogloss:0.00816\tvalidation_1-mlogloss:0.04249\n",
      "[30]\tvalidation_0-mlogloss:0.00802\tvalidation_1-mlogloss:0.04256\n",
      "[31]\tvalidation_0-mlogloss:0.00789\tvalidation_1-mlogloss:0.04246\n",
      "[32]\tvalidation_0-mlogloss:0.00777\tvalidation_1-mlogloss:0.04256\n",
      "[33]\tvalidation_0-mlogloss:0.00765\tvalidation_1-mlogloss:0.04263\n",
      "[34]\tvalidation_0-mlogloss:0.00755\tvalidation_1-mlogloss:0.04255\n",
      "[35]\tvalidation_0-mlogloss:0.00747\tvalidation_1-mlogloss:0.04274\n",
      "[36]\tvalidation_0-mlogloss:0.00739\tvalidation_1-mlogloss:0.04272\n",
      "[37]\tvalidation_0-mlogloss:0.00732\tvalidation_1-mlogloss:0.04270\n",
      "[38]\tvalidation_0-mlogloss:0.00726\tvalidation_1-mlogloss:0.04254\n",
      "[39]\tvalidation_0-mlogloss:0.00722\tvalidation_1-mlogloss:0.04258\n",
      "[40]\tvalidation_0-mlogloss:0.00717\tvalidation_1-mlogloss:0.04258\n",
      "Test Accuracy on Noisy Data: 0.7363636363636363\n",
      "\n",
      "Classification Report on Noisy Data:\n",
      "               precision    recall  f1-score   support\n",
      "\n",
      "       apple       0.65      0.55      0.59        20\n",
      "      banana       0.90      0.95      0.93        20\n",
      "   blackgram       0.67      0.50      0.57        20\n",
      "    chickpea       0.65      0.75      0.70        20\n",
      "     coconut       0.56      0.75      0.64        20\n",
      "      coffee       0.79      0.95      0.86        20\n",
      "      cotton       0.79      0.75      0.77        20\n",
      "      grapes       0.83      0.50      0.62        20\n",
      "        jute       0.79      0.55      0.65        20\n",
      " kidneybeans       0.73      0.80      0.76        20\n",
      "      lentil       0.76      0.80      0.78        20\n",
      "       maize       0.71      0.75      0.73        20\n",
      "       mango       0.95      0.95      0.95        20\n",
      "   mothbeans       0.88      0.75      0.81        20\n",
      "    mungbean       0.80      0.80      0.80        20\n",
      "   muskmelon       0.78      0.70      0.74        20\n",
      "      orange       0.50      0.65      0.57        20\n",
      "      papaya       0.70      0.80      0.74        20\n",
      "  pigeonpeas       0.80      0.80      0.80        20\n",
      " pomegranate       0.74      0.70      0.72        20\n",
      "        rice       0.74      0.85      0.79        20\n",
      "  watermelon       0.67      0.60      0.63        20\n",
      "\n",
      "    accuracy                           0.74       440\n",
      "   macro avg       0.74      0.74      0.73       440\n",
      "weighted avg       0.74      0.74      0.73       440\n",
      "\n"
     ]
    },
    {
     "data": {
      "image/png": "[encoded data removed]",
      "text/plain": [
       "<Figure size 1000x800 with 2 Axes>"
      ]
     },
     "metadata": {},
     "output_type": "display_data"
    }
   ],
   "source": [
    "# Features and target column names\n",
    "features = ['N', 'P', 'K', 'ph', 'temperature', 'humidity', 'rainfall']\n",
    "target = 'label'\n",
    "\n",
    "# Encode target labels\n",
    "le = LabelEncoder()\n",
    "y_train = le.fit_transform(train_df[target])\n",
    "y_test = le.transform(test_df[target])\n",
    "X_train = train_df[features]\n",
    "X_test = test_df[features]\n",
    "\n",
    "# ---------------------------\n",
    "# Train the final model with early stopping\n",
    "final_model = xgb.XGBClassifier(\n",
    "    n_estimators=100,\n",
    "    random_state=42,\n",
    "    use_label_encoder=False,\n",
    "    eval_metric='mlogloss',\n",
    "    early_stopping_rounds=10\n",
    ")\n",
    "\n",
    "final_model.fit(\n",
    "    X_train, y_train,\n",
    "    eval_set=[(X_train, y_train), (X_test, y_test)],\n",
    "    verbose=True\n",
    ")\n",
    "\n",
    "# ---------------------------\n",
    "# Add synthetic noise to the test data\n",
    "# ---------------------------\n",
    "# Create a copy of the test set to add noise\n",
    "X_test_noisy = X_test.copy()\n",
    "\n",
    "# Define a noise factor (e.g., 10% of the standard deviation of each feature)\n",
    "noise_factor = 0.2\n",
    "\n",
    "for col in features:\n",
    "    # Calculate the standard deviation of the current feature\n",
    "    std = X_test[col].std()\n",
    "    # Generate Gaussian noise: mean=0, std=noise_factor*std\n",
    "    noise = np.random.normal(0, noise_factor * std, size=X_test.shape[0])\n",
    "    # Add the noise to the feature column\n",
    "    X_test_noisy[col] = X_test[col] + noise\n",
    "\n",
    "# ---------------------------\n",
    "# Evaluate the model on the noisy test data\n",
    "# ---------------------------\n",
    "noisy_preds = final_model.predict(X_test_noisy)\n",
    "\n",
    "# Calculate accuracy\n",
    "accuracy_noisy = accuracy_score(y_test, noisy_preds)\n",
    "print(\"Test Accuracy on Noisy Data:\", accuracy_noisy)\n",
    "\n",
    "# Print the classification report\n",
    "print(\"\\nClassification Report on Noisy Data:\\n\",\n",
    "      classification_report(y_test, noisy_preds, target_names=le.classes_))\n",
    "\n",
    "# Compute and plot the confusion matrix\n",
    "cm = confusion_matrix(y_test, noisy_preds)\n",
    "plt.figure(figsize=(10, 8))\n",
    "sns.heatmap(cm, annot=True, fmt=\"d\", cmap=\"Blues\",\n",
    "            xticklabels=le.classes_, yticklabels=le.classes_)\n",
    "plt.xlabel(\"Predicted\")\n",
    "plt.ylabel(\"True\")\n",
    "plt.title(\"Confusion Matrix on Noisy Data\")\n",
    "plt.show()\n"
   ]
  },
  {
   "cell_type": "code",
   "execution_count": 30,
   "id": "537cab6b-7d20-45d0-9713-9000bd20874f",
   "metadata": {},
   "outputs": [],
   "source": [
    "df = pd.read_csv(\"Crop_recommendation.csv\")"
   ]
  },
  {
   "cell_type": "code",
   "execution_count": 31,
   "id": "596524d4-10b5-4c5e-a699-76c02c47c4fd",
   "metadata": {},
   "outputs": [
    {
     "data": {
      "text/plain": [
       "103.46365541576817"
      ]
     },
     "execution_count": 31,
     "metadata": {},
     "output_type": "execute_result"
    }
   ],
   "source": [
    "df['rainfall'].mean()"
   ]
  },
  {
   "cell_type": "code",
   "execution_count": 32,
   "id": "dc3a3807-6591-40ea-a458-ab037c333efa",
   "metadata": {},
   "outputs": [
    {
     "data": {
      "text/plain": [
       "94.86762427"
      ]
     },
     "execution_count": 32,
     "metadata": {},
     "output_type": "execute_result"
    }
   ],
   "source": [
    "df['rainfall'].median()"
   ]
  },
  {
   "cell_type": "code",
   "execution_count": 33,
   "id": "417b3c1b-89c3-4c1f-a10d-9c06c84e6f21",
   "metadata": {},
   "outputs": [
    {
     "data": {
      "text/plain": [
       "54.95838852487811"
      ]
     },
     "execution_count": 33,
     "metadata": {},
     "output_type": "execute_result"
    }
   ],
   "source": [
    "df['rainfall'].std()"
   ]
  },
  {
   "cell_type": "code",
   "execution_count": 34,
   "id": "a4b9ca1f-55a2-49fe-b115-1c9406ef531f",
   "metadata": {},
   "outputs": [
    {
     "data": {
      "text/plain": [
       "25.616243851779544"
      ]
     },
     "execution_count": 34,
     "metadata": {},
     "output_type": "execute_result"
    }
   ],
   "source": [
    "df['temperature'].mean()"
   ]
  },
  {
   "cell_type": "code",
   "execution_count": 35,
   "id": "510ad754-88d4-479f-9d44-1a7c4d4ceeec",
   "metadata": {},
   "outputs": [
    {
     "data": {
      "text/plain": [
       "25.5986932"
      ]
     },
     "execution_count": 35,
     "metadata": {},
     "output_type": "execute_result"
    }
   ],
   "source": [
    "df['temperature'].median()"
   ]
  },
  {
   "cell_type": "code",
   "execution_count": 36,
   "id": "44af92c0-2de0-4f58-885a-4ccea21c127f",
   "metadata": {},
   "outputs": [],
   "source": [
    "rf_model = RandomForestClassifier(\n",
    "    n_estimators=100,            # Try 100-200 trees\n",
    "    max_depth=10,                # Limit depth to prevent overfitting\n",
    "    min_samples_split=5,         # Require more samples to split a node\n",
    "    min_samples_leaf=2,          # Require at least 2 samples in leaf nodes\n",
    "    max_features='sqrt',         # Consider sqrt(n_features) at each split\n",
    "    bootstrap=True,              # Use bootstrapping\n",
    "    oob_score=True,              # Use out-of-bag samples to estimate accuracy\n",
    "    random_state=42              # For reproducibility\n",
    ")"
   ]
  },
  {
   "cell_type": "code",
   "execution_count": 37,
   "id": "0ce060f9-b408-4095-bb45-b4f854bb75e2",
   "metadata": {},
   "outputs": [
    {
     "data": {
      "text/html": [
       "<style>#sk-container-id-1 {\n",
       "  /* Definition of color scheme common for light and dark mode */\n",
       "  --sklearn-color-text: black;\n",
       "  --sklearn-color-line: gray;\n",
       "  /* Definition of color scheme for unfitted estimators */\n",
       "  --sklearn-color-unfitted-level-0: #fff5e6;\n",
       "  --sklearn-color-unfitted-level-1: #f6e4d2;\n",
       "  --sklearn-color-unfitted-level-2: #ffe0b3;\n",
       "  --sklearn-color-unfitted-level-3: chocolate;\n",
       "  /* Definition of color scheme for fitted estimators */\n",
       "  --sklearn-color-fitted-level-0: #f0f8ff;\n",
       "  --sklearn-color-fitted-level-1: #d4ebff;\n",
       "  --sklearn-color-fitted-level-2: #b3dbfd;\n",
       "  --sklearn-color-fitted-level-3: cornflowerblue;\n",
       "\n",
       "  /* Specific color for light theme */\n",
       "  --sklearn-color-text-on-default-background: var(--sg-text-color, var(--theme-code-foreground, var(--jp-content-font-color1, black)));\n",
       "  --sklearn-color-background: var(--sg-background-color, var(--theme-background, var(--jp-layout-color0, white)));\n",
       "  --sklearn-color-border-box: var(--sg-text-color, var(--theme-code-foreground, var(--jp-content-font-color1, black)));\n",
       "  --sklearn-color-icon: #696969;\n",
       "\n",
       "  @media (prefers-color-scheme: dark) {\n",
       "    /* Redefinition of color scheme for dark theme */\n",
       "    --sklearn-color-text-on-default-background: var(--sg-text-color, var(--theme-code-foreground, var(--jp-content-font-color1, white)));\n",
       "    --sklearn-color-background: var(--sg-background-color, var(--theme-background, var(--jp-layout-color0, #111)));\n",
       "    --sklearn-color-border-box: var(--sg-text-color, var(--theme-code-foreground, var(--jp-content-font-color1, white)));\n",
       "    --sklearn-color-icon: #878787;\n",
       "  }\n",
       "}\n",
       "\n",
       "#sk-container-id-1 {\n",
       "  color: var(--sklearn-color-text);\n",
       "}\n",
       "\n",
       "#sk-container-id-1 pre {\n",
       "  padding: 0;\n",
       "}\n",
       "\n",
       "#sk-container-id-1 input.sk-hidden--visually {\n",
       "  border: 0;\n",
       "  clip: rect(1px 1px 1px 1px);\n",
       "  clip: rect(1px, 1px, 1px, 1px);\n",
       "  height: 1px;\n",
       "  margin: -1px;\n",
       "  overflow: hidden;\n",
       "  padding: 0;\n",
       "  position: absolute;\n",
       "  width: 1px;\n",
       "}\n",
       "\n",
       "#sk-container-id-1 div.sk-dashed-wrapped {\n",
       "  border: 1px dashed var(--sklearn-color-line);\n",
       "  margin: 0 0.4em 0.5em 0.4em;\n",
       "  box-sizing: border-box;\n",
       "  padding-bottom: 0.4em;\n",
       "  background-color: var(--sklearn-color-background);\n",
       "}\n",
       "\n",
       "#sk-container-id-1 div.sk-container {\n",
       "  /* jupyter's `normalize.less` sets `[hidden] { display: none; }`\n",
       "     but bootstrap.min.css set `[hidden] { display: none !important; }`\n",
       "     so we also need the `!important` here to be able to override the\n",
       "     default hidden behavior on the sphinx rendered scikit-learn.org.\n",
       "     See: https://github.com/scikit-learn/scikit-learn/issues/21755 */\n",
       "  display: inline-block !important;\n",
       "  position: relative;\n",
       "}\n",
       "\n",
       "#sk-container-id-1 div.sk-text-repr-fallback {\n",
       "  display: none;\n",
       "}\n",
       "\n",
       "div.sk-parallel-item,\n",
       "div.sk-serial,\n",
       "div.sk-item {\n",
       "  /* draw centered vertical line to link estimators */\n",
       "  background-image: linear-gradient(var(--sklearn-color-text-on-default-background), var(--sklearn-color-text-on-default-background));\n",
       "  background-size: 2px 100%;\n",
       "  background-repeat: no-repeat;\n",
       "  background-position: center center;\n",
       "}\n",
       "\n",
       "/* Parallel-specific style estimator block */\n",
       "\n",
       "#sk-container-id-1 div.sk-parallel-item::after {\n",
       "  content: \"\";\n",
       "  width: 100%;\n",
       "  border-bottom: 2px solid var(--sklearn-color-text-on-default-background);\n",
       "  flex-grow: 1;\n",
       "}\n",
       "\n",
       "#sk-container-id-1 div.sk-parallel {\n",
       "  display: flex;\n",
       "  align-items: stretch;\n",
       "  justify-content: center;\n",
       "  background-color: var(--sklearn-color-background);\n",
       "  position: relative;\n",
       "}\n",
       "\n",
       "#sk-container-id-1 div.sk-parallel-item {\n",
       "  display: flex;\n",
       "  flex-direction: column;\n",
       "}\n",
       "\n",
       "#sk-container-id-1 div.sk-parallel-item:first-child::after {\n",
       "  align-self: flex-end;\n",
       "  width: 50%;\n",
       "}\n",
       "\n",
       "#sk-container-id-1 div.sk-parallel-item:last-child::after {\n",
       "  align-self: flex-start;\n",
       "  width: 50%;\n",
       "}\n",
       "\n",
       "#sk-container-id-1 div.sk-parallel-item:only-child::after {\n",
       "  width: 0;\n",
       "}\n",
       "\n",
       "/* Serial-specific style estimator block */\n",
       "\n",
       "#sk-container-id-1 div.sk-serial {\n",
       "  display: flex;\n",
       "  flex-direction: column;\n",
       "  align-items: center;\n",
       "  background-color: var(--sklearn-color-background);\n",
       "  padding-right: 1em;\n",
       "  padding-left: 1em;\n",
       "}\n",
       "\n",
       "\n",
       "/* Toggleable style: style used for estimator/Pipeline/ColumnTransformer box that is\n",
       "clickable and can be expanded/collapsed.\n",
       "- Pipeline and ColumnTransformer use this feature and define the default style\n",
       "- Estimators will overwrite some part of the style using the `sk-estimator` class\n",
       "*/\n",
       "\n",
       "/* Pipeline and ColumnTransformer style (default) */\n",
       "\n",
       "#sk-container-id-1 div.sk-toggleable {\n",
       "  /* Default theme specific background. It is overwritten whether we have a\n",
       "  specific estimator or a Pipeline/ColumnTransformer */\n",
       "  background-color: var(--sklearn-color-background);\n",
       "}\n",
       "\n",
       "/* Toggleable label */\n",
       "#sk-container-id-1 label.sk-toggleable__label {\n",
       "  cursor: pointer;\n",
       "  display: block;\n",
       "  width: 100%;\n",
       "  margin-bottom: 0;\n",
       "  padding: 0.5em;\n",
       "  box-sizing: border-box;\n",
       "  text-align: center;\n",
       "}\n",
       "\n",
       "#sk-container-id-1 label.sk-toggleable__label-arrow:before {\n",
       "  /* Arrow on the left of the label */\n",
       "  content: \"▸\";\n",
       "  float: left;\n",
       "  margin-right: 0.25em;\n",
       "  color: var(--sklearn-color-icon);\n",
       "}\n",
       "\n",
       "#sk-container-id-1 label.sk-toggleable__label-arrow:hover:before {\n",
       "  color: var(--sklearn-color-text);\n",
       "}\n",
       "\n",
       "/* Toggleable content - dropdown */\n",
       "\n",
       "#sk-container-id-1 div.sk-toggleable__content {\n",
       "  max-height: 0;\n",
       "  max-width: 0;\n",
       "  overflow: hidden;\n",
       "  text-align: left;\n",
       "  /* unfitted */\n",
       "  background-color: var(--sklearn-color-unfitted-level-0);\n",
       "}\n",
       "\n",
       "#sk-container-id-1 div.sk-toggleable__content.fitted {\n",
       "  /* fitted */\n",
       "  background-color: var(--sklearn-color-fitted-level-0);\n",
       "}\n",
       "\n",
       "#sk-container-id-1 div.sk-toggleable__content pre {\n",
       "  margin: 0.2em;\n",
       "  border-radius: 0.25em;\n",
       "  color: var(--sklearn-color-text);\n",
       "  /* unfitted */\n",
       "  background-color: var(--sklearn-color-unfitted-level-0);\n",
       "}\n",
       "\n",
       "#sk-container-id-1 div.sk-toggleable__content.fitted pre {\n",
       "  /* unfitted */\n",
       "  background-color: var(--sklearn-color-fitted-level-0);\n",
       "}\n",
       "\n",
       "#sk-container-id-1 input.sk-toggleable__control:checked~div.sk-toggleable__content {\n",
       "  /* Expand drop-down */\n",
       "  max-height: 200px;\n",
       "  max-width: 100%;\n",
       "  overflow: auto;\n",
       "}\n",
       "\n",
       "#sk-container-id-1 input.sk-toggleable__control:checked~label.sk-toggleable__label-arrow:before {\n",
       "  content: \"▾\";\n",
       "}\n",
       "\n",
       "/* Pipeline/ColumnTransformer-specific style */\n",
       "\n",
       "#sk-container-id-1 div.sk-label input.sk-toggleable__control:checked~label.sk-toggleable__label {\n",
       "  color: var(--sklearn-color-text);\n",
       "  background-color: var(--sklearn-color-unfitted-level-2);\n",
       "}\n",
       "\n",
       "#sk-container-id-1 div.sk-label.fitted input.sk-toggleable__control:checked~label.sk-toggleable__label {\n",
       "  background-color: var(--sklearn-color-fitted-level-2);\n",
       "}\n",
       "\n",
       "/* Estimator-specific style */\n",
       "\n",
       "/* Colorize estimator box */\n",
       "#sk-container-id-1 div.sk-estimator input.sk-toggleable__control:checked~label.sk-toggleable__label {\n",
       "  /* unfitted */\n",
       "  background-color: var(--sklearn-color-unfitted-level-2);\n",
       "}\n",
       "\n",
       "#sk-container-id-1 div.sk-estimator.fitted input.sk-toggleable__control:checked~label.sk-toggleable__label {\n",
       "  /* fitted */\n",
       "  background-color: var(--sklearn-color-fitted-level-2);\n",
       "}\n",
       "\n",
       "#sk-container-id-1 div.sk-label label.sk-toggleable__label,\n",
       "#sk-container-id-1 div.sk-label label {\n",
       "  /* The background is the default theme color */\n",
       "  color: var(--sklearn-color-text-on-default-background);\n",
       "}\n",
       "\n",
       "/* On hover, darken the color of the background */\n",
       "#sk-container-id-1 div.sk-label:hover label.sk-toggleable__label {\n",
       "  color: var(--sklearn-color-text);\n",
       "  background-color: var(--sklearn-color-unfitted-level-2);\n",
       "}\n",
       "\n",
       "/* Label box, darken color on hover, fitted */\n",
       "#sk-container-id-1 div.sk-label.fitted:hover label.sk-toggleable__label.fitted {\n",
       "  color: var(--sklearn-color-text);\n",
       "  background-color: var(--sklearn-color-fitted-level-2);\n",
       "}\n",
       "\n",
       "/* Estimator label */\n",
       "\n",
       "#sk-container-id-1 div.sk-label label {\n",
       "  font-family: monospace;\n",
       "  font-weight: bold;\n",
       "  display: inline-block;\n",
       "  line-height: 1.2em;\n",
       "}\n",
       "\n",
       "#sk-container-id-1 div.sk-label-container {\n",
       "  text-align: center;\n",
       "}\n",
       "\n",
       "/* Estimator-specific */\n",
       "#sk-container-id-1 div.sk-estimator {\n",
       "  font-family: monospace;\n",
       "  border: 1px dotted var(--sklearn-color-border-box);\n",
       "  border-radius: 0.25em;\n",
       "  box-sizing: border-box;\n",
       "  margin-bottom: 0.5em;\n",
       "  /* unfitted */\n",
       "  background-color: var(--sklearn-color-unfitted-level-0);\n",
       "}\n",
       "\n",
       "#sk-container-id-1 div.sk-estimator.fitted {\n",
       "  /* fitted */\n",
       "  background-color: var(--sklearn-color-fitted-level-0);\n",
       "}\n",
       "\n",
       "/* on hover */\n",
       "#sk-container-id-1 div.sk-estimator:hover {\n",
       "  /* unfitted */\n",
       "  background-color: var(--sklearn-color-unfitted-level-2);\n",
       "}\n",
       "\n",
       "#sk-container-id-1 div.sk-estimator.fitted:hover {\n",
       "  /* fitted */\n",
       "  background-color: var(--sklearn-color-fitted-level-2);\n",
       "}\n",
       "\n",
       "/* Specification for estimator info (e.g. \"i\" and \"?\") */\n",
       "\n",
       "/* Common style for \"i\" and \"?\" */\n",
       "\n",
       ".sk-estimator-doc-link,\n",
       "a:link.sk-estimator-doc-link,\n",
       "a:visited.sk-estimator-doc-link {\n",
       "  float: right;\n",
       "  font-size: smaller;\n",
       "  line-height: 1em;\n",
       "  font-family: monospace;\n",
       "  background-color: var(--sklearn-color-background);\n",
       "  border-radius: 1em;\n",
       "  height: 1em;\n",
       "  width: 1em;\n",
       "  text-decoration: none !important;\n",
       "  margin-left: 1ex;\n",
       "  /* unfitted */\n",
       "  border: var(--sklearn-color-unfitted-level-1) 1pt solid;\n",
       "  color: var(--sklearn-color-unfitted-level-1);\n",
       "}\n",
       "\n",
       ".sk-estimator-doc-link.fitted,\n",
       "a:link.sk-estimator-doc-link.fitted,\n",
       "a:visited.sk-estimator-doc-link.fitted {\n",
       "  /* fitted */\n",
       "  border: var(--sklearn-color-fitted-level-1) 1pt solid;\n",
       "  color: var(--sklearn-color-fitted-level-1);\n",
       "}\n",
       "\n",
       "/* On hover */\n",
       "div.sk-estimator:hover .sk-estimator-doc-link:hover,\n",
       ".sk-estimator-doc-link:hover,\n",
       "div.sk-label-container:hover .sk-estimator-doc-link:hover,\n",
       ".sk-estimator-doc-link:hover {\n",
       "  /* unfitted */\n",
       "  background-color: var(--sklearn-color-unfitted-level-3);\n",
       "  color: var(--sklearn-color-background);\n",
       "  text-decoration: none;\n",
       "}\n",
       "\n",
       "div.sk-estimator.fitted:hover .sk-estimator-doc-link.fitted:hover,\n",
       ".sk-estimator-doc-link.fitted:hover,\n",
       "div.sk-label-container:hover .sk-estimator-doc-link.fitted:hover,\n",
       ".sk-estimator-doc-link.fitted:hover {\n",
       "  /* fitted */\n",
       "  background-color: var(--sklearn-color-fitted-level-3);\n",
       "  color: var(--sklearn-color-background);\n",
       "  text-decoration: none;\n",
       "}\n",
       "\n",
       "/* Span, style for the box shown on hovering the info icon */\n",
       ".sk-estimator-doc-link span {\n",
       "  display: none;\n",
       "  z-index: 9999;\n",
       "  position: relative;\n",
       "  font-weight: normal;\n",
       "  right: .2ex;\n",
       "  padding: .5ex;\n",
       "  margin: .5ex;\n",
       "  width: min-content;\n",
       "  min-width: 20ex;\n",
       "  max-width: 50ex;\n",
       "  color: var(--sklearn-color-text);\n",
       "  box-shadow: 2pt 2pt 4pt #999;\n",
       "  /* unfitted */\n",
       "  background: var(--sklearn-color-unfitted-level-0);\n",
       "  border: .5pt solid var(--sklearn-color-unfitted-level-3);\n",
       "}\n",
       "\n",
       ".sk-estimator-doc-link.fitted span {\n",
       "  /* fitted */\n",
       "  background: var(--sklearn-color-fitted-level-0);\n",
       "  border: var(--sklearn-color-fitted-level-3);\n",
       "}\n",
       "\n",
       ".sk-estimator-doc-link:hover span {\n",
       "  display: block;\n",
       "}\n",
       "\n",
       "/* \"?\"-specific style due to the `<a>` HTML tag */\n",
       "\n",
       "#sk-container-id-1 a.estimator_doc_link {\n",
       "  float: right;\n",
       "  font-size: 1rem;\n",
       "  line-height: 1em;\n",
       "  font-family: monospace;\n",
       "  background-color: var(--sklearn-color-background);\n",
       "  border-radius: 1rem;\n",
       "  height: 1rem;\n",
       "  width: 1rem;\n",
       "  text-decoration: none;\n",
       "  /* unfitted */\n",
       "  color: var(--sklearn-color-unfitted-level-1);\n",
       "  border: var(--sklearn-color-unfitted-level-1) 1pt solid;\n",
       "}\n",
       "\n",
       "#sk-container-id-1 a.estimator_doc_link.fitted {\n",
       "  /* fitted */\n",
       "  border: var(--sklearn-color-fitted-level-1) 1pt solid;\n",
       "  color: var(--sklearn-color-fitted-level-1);\n",
       "}\n",
       "\n",
       "/* On hover */\n",
       "#sk-container-id-1 a.estimator_doc_link:hover {\n",
       "  /* unfitted */\n",
       "  background-color: var(--sklearn-color-unfitted-level-3);\n",
       "  color: var(--sklearn-color-background);\n",
       "  text-decoration: none;\n",
       "}\n",
       "\n",
       "#sk-container-id-1 a.estimator_doc_link.fitted:hover {\n",
       "  /* fitted */\n",
       "  background-color: var(--sklearn-color-fitted-level-3);\n",
       "}\n",
       "</style><div id=\"sk-container-id-1\" class=\"sk-top-container\"><div class=\"sk-text-repr-fallback\"><pre>RandomForestClassifier(max_depth=10, min_samples_leaf=2, min_samples_split=5,\n",
       "                       oob_score=True, random_state=42)</pre><b>In a Jupyter environment, please rerun this cell to show the HTML representation or trust the notebook. <br />On GitHub, the HTML representation is unable to render, please try loading this page with nbviewer.org.</b></div><div class=\"sk-container\" hidden><div class=\"sk-item\"><div class=\"sk-estimator fitted sk-toggleable\"><input class=\"sk-toggleable__control sk-hidden--visually\" id=\"sk-estimator-id-1\" type=\"checkbox\" checked><label for=\"sk-estimator-id-1\" class=\"sk-toggleable__label fitted sk-toggleable__label-arrow fitted\">&nbsp;&nbsp;RandomForestClassifier<a class=\"sk-estimator-doc-link fitted\" rel=\"noreferrer\" target=\"_blank\" href=\"https://scikit-learn.org/1.5/modules/generated/sklearn.ensemble.RandomForestClassifier.html\">?<span>Documentation for RandomForestClassifier</span></a><span class=\"sk-estimator-doc-link fitted\">i<span>Fitted</span></span></label><div class=\"sk-toggleable__content fitted\"><pre>RandomForestClassifier(max_depth=10, min_samples_leaf=2, min_samples_split=5,\n",
       "                       oob_score=True, random_state=42)</pre></div> </div></div></div></div>"
      ],
      "text/plain": [
       "RandomForestClassifier(max_depth=10, min_samples_leaf=2, min_samples_split=5,\n",
       "                       oob_score=True, random_state=42)"
      ]
     },
     "execution_count": 37,
     "metadata": {},
     "output_type": "execute_result"
    }
   ],
   "source": [
    "rf_model.fit(X_train, y_train)"
   ]
  },
  {
   "cell_type": "code",
   "execution_count": 38,
   "id": "8cebeef7-fb61-4b63-bff1-f4cd5ed11b03",
   "metadata": {},
   "outputs": [],
   "source": [
    "y_pred = rf_model.predict(X_test)"
   ]
  },
  {
   "cell_type": "code",
   "execution_count": 39,
   "id": "bf8929a9-c50a-4039-a78f-8b957309be6a",
   "metadata": {},
   "outputs": [
    {
     "name": "stdout",
     "output_type": "stream",
     "text": [
      "[ 8 20 20  8 20 20 20 20 20 20 20 20 20 20 20 20 20 20 20 20 11 11 11 11\n",
      " 11 11 11 11 11 11 11 11 11 11 11 11 11 11 11 11  3  3  3  3  3  3  3  3\n",
      "  3  3  3  3  3  3  3  3  3  3  3  3  9  9  9  9  9  9  9  9  9  9  9  9\n",
      "  9  9  9  9  9  9  9  9 18 18 18 18 18 18 18 18 18 18 18 18 18 18 18 18\n",
      " 18 18 18 18 13 13 13 13 13 13 13 13 13 13 13 13 13 13 13 13 13 13 13 13\n",
      " 14 14 14 14 14 14 14 14 14 14 14 14 14 14 14 14 14 14 14 14  2  2  2  2\n",
      "  2  2  2  2  2  2  2  2  2  2  2  2  2  2  2  2 10 10 10 10 10 10 10 10\n",
      " 10 10 10 10 10 10 10 10 10 10 10 10 19 19 19 19 19 19 19 19 19 19 19 19\n",
      " 19 19 19 19 19 19 19 19  1  1  1  1  1  1  1  1  1  1  1  1  1  1  1  1\n",
      "  1  1  1  1 12 12 12 12 12 12 12 12 12 12 12 12 12 12 12 12 12 12 12 12\n",
      "  7  7  7  7  7  7  7  7  7  7  7  7  7  7  7  7  7  7  7  7 21 21 21 21\n",
      " 21 21 21 21 21 21 21 21 21 21 21 21 21 21 21 21 15 15 15 15 15 15 15 15\n",
      " 15 15 15 15 15 15 15 15 15 15 15 15  0  0  0  0  0  0  0  0  0  0  0  0\n",
      "  0  0  0  0  0  0  0  0 16 16 16 16 16 16 16 16 16 16 16 16 16 16 16 16\n",
      " 16 16 16 16 17 17 17 17 17 17 17 17 17 17 17 17 17 17 17 17 17 17 17 17\n",
      "  4  4  4  4  4  4  4  4  4  4  4  4  4  4  4  4  4  4  4  4  6  6  6  6\n",
      "  6  6  6  6  6  6  6  6  6  6  6  6  6  6  6  6  8  8  8  8  8  8  8  8\n",
      "  8  8  8  8  8  8  8  8  8  8  8  8  5  5  5  5  5  5  5  5  5  5  5  5\n",
      "  5  5  5  5  5  5  5  5]\n"
     ]
    }
   ],
   "source": [
    "print(y_pred)"
   ]
  },
  {
   "cell_type": "code",
   "execution_count": 41,
   "id": "040f31b6-22ca-4b56-82c4-03c8b294b119",
   "metadata": {},
   "outputs": [],
   "source": [
    "accuracy = accuracy_score(y_test, y_pred)"
   ]
  },
  {
   "cell_type": "code",
   "execution_count": 42,
   "id": "65957d88-e014-4caa-8695-92437ae729d0",
   "metadata": {},
   "outputs": [
    {
     "name": "stdout",
     "output_type": "stream",
     "text": [
      "0.9954545454545455\n"
     ]
    }
   ],
   "source": [
    "print(accuracy)"
   ]
  },
  {
   "cell_type": "code",
   "execution_count": 43,
   "id": "e2ea1050-b6d4-42c9-9efd-4f9ba16bd50e",
   "metadata": {},
   "outputs": [],
   "source": [
    "report = classification_report(y_test, y_pred)"
   ]
  },
  {
   "cell_type": "code",
   "execution_count": 44,
   "id": "6270103f-dd86-45ca-9ca7-8c7e36fb652e",
   "metadata": {},
   "outputs": [
    {
     "name": "stdout",
     "output_type": "stream",
     "text": [
      "              precision    recall  f1-score   support\n",
      "\n",
      "           0       1.00      1.00      1.00        20\n",
      "           1       1.00      1.00      1.00        20\n",
      "           2       1.00      1.00      1.00        20\n",
      "           3       1.00      1.00      1.00        20\n",
      "           4       1.00      1.00      1.00        20\n",
      "           5       1.00      1.00      1.00        20\n",
      "           6       1.00      1.00      1.00        20\n",
      "           7       1.00      1.00      1.00        20\n",
      "           8       0.91      1.00      0.95        20\n",
      "           9       1.00      1.00      1.00        20\n",
      "          10       1.00      1.00      1.00        20\n",
      "          11       1.00      1.00      1.00        20\n",
      "          12       1.00      1.00      1.00        20\n",
      "          13       1.00      1.00      1.00        20\n",
      "          14       1.00      1.00      1.00        20\n",
      "          15       1.00      1.00      1.00        20\n",
      "          16       1.00      1.00      1.00        20\n",
      "          17       1.00      1.00      1.00        20\n",
      "          18       1.00      1.00      1.00        20\n",
      "          19       1.00      1.00      1.00        20\n",
      "          20       1.00      0.90      0.95        20\n",
      "          21       1.00      1.00      1.00        20\n",
      "\n",
      "    accuracy                           1.00       440\n",
      "   macro avg       1.00      1.00      1.00       440\n",
      "weighted avg       1.00      1.00      1.00       440\n",
      "\n"
     ]
    }
   ],
   "source": [
    "print(report)"
   ]
  },
  {
   "cell_type": "code",
   "execution_count": 45,
   "id": "aafa9099-3554-4fff-98cb-4d2a0648b71a",
   "metadata": {},
   "outputs": [],
   "source": [
    "y_proba = model.predict_proba(X_test)"
   ]
  },
  {
   "cell_type": "code",
   "execution_count": 46,
   "id": "951ecd57-1f28-45c8-996d-ec76f9e14bb9",
   "metadata": {},
   "outputs": [],
   "source": [
    "confidences = np.max(y_proba, axis=1)"
   ]
  },
  {
   "cell_type": "code",
   "execution_count": 47,
   "id": "ab94f763-7d28-4e3a-9b7b-21ca5569296f",
   "metadata": {},
   "outputs": [
    {
     "name": "stdout",
     "output_type": "stream",
     "text": [
      "[0.71136194 0.9958246  0.8756441  0.7032945  0.99550617 0.99355537\n",
      " 0.9927816  0.86175627 0.99449086 0.99293065 0.9976421  0.99632794\n",
      " 0.9349586  0.9959266  0.99507844 0.99717736 0.9914854  0.9837668\n",
      " 0.9964993  0.9904241  0.9976351  0.9880441  0.9960594  0.9964478\n",
      " 0.99728847 0.97409445 0.9971987  0.95531416 0.99714535 0.99770784\n",
      " 0.9959122  0.96295696 0.99715686 0.9955537  0.9918358  0.99494344\n",
      " 0.99746275 0.996518   0.9900281  0.99674916 0.99535865 0.99307704\n",
      " 0.99492836 0.9964353  0.99529904 0.9958691  0.9958973  0.99645495\n",
      " 0.9960289  0.99631554 0.9939056  0.99558866 0.9311632  0.99579144\n",
      " 0.9936114  0.9964353  0.9956868  0.99590635 0.9962585  0.9946143\n",
      " 0.9965469  0.99311674 0.9959337  0.99474335 0.9975261  0.99530834\n",
      " 0.99582905 0.99691606 0.99550533 0.9971648  0.99585307 0.993701\n",
      " 0.99461293 0.99586236 0.9917759  0.99617577 0.9950251  0.9974154\n",
      " 0.994038   0.99596065 0.9945733  0.985209   0.95918685 0.835446\n",
      " 0.9977393  0.60977614 0.98656696 0.94522595 0.18445016 0.9953629\n",
      " 0.99631494 0.9716476  0.9899597  0.99550325 0.29419845 0.99660885\n",
      " 0.9935946  0.99115986 0.9655556  0.9979619  0.9833782  0.9812974\n",
      " 0.982625   0.95523727 0.9928349  0.9967513  0.99648464 0.99597687\n",
      " 0.9915537  0.801535   0.99289304 0.99480754 0.9969875  0.99739313\n",
      " 0.93571436 0.9832107  0.99674714 0.99455655 0.9972886  0.99636805\n",
      " 0.9924932  0.99461645 0.9970198  0.9940823  0.99701774 0.99277014\n",
      " 0.9899706  0.95360786 0.9969693  0.9967168  0.9919807  0.996452\n",
      " 0.9950269  0.9962947  0.99713695 0.9956449  0.996152   0.9627625\n",
      " 0.99431497 0.9951382  0.99470645 0.9948645  0.9923487  0.99495715\n",
      " 0.9948376  0.9961188  0.9965333  0.9920603  0.98697346 0.99602735\n",
      " 0.98858064 0.9960581  0.99517655 0.9958916  0.9963716  0.99532133\n",
      " 0.9961479  0.9938392  0.99655104 0.9963102  0.99203354 0.9884985\n",
      " 0.99613476 0.99658245 0.80863804 0.95665604 0.99539316 0.9894203\n",
      " 0.9943369  0.99367034 0.4441099  0.99584925 0.9892831  0.99613154\n",
      " 0.9966905  0.9965146  0.996412   0.99592507 0.9896045  0.9935122\n",
      " 0.99733585 0.996476   0.99622834 0.99571216 0.9958224  0.99581355\n",
      " 0.99681145 0.9968299  0.90024036 0.99647874 0.9971909  0.9958352\n",
      " 0.9968104  0.99725866 0.99604297 0.99732375 0.99573463 0.9963516\n",
      " 0.9966273  0.9974624  0.9957562  0.9959967  0.9942415  0.9942983\n",
      " 0.9951015  0.99533033 0.9948384  0.9957294  0.995082   0.9958319\n",
      " 0.99571925 0.99582493 0.99458957 0.9941362  0.9952099  0.9943479\n",
      " 0.99510115 0.9952991  0.9953447  0.99581844 0.9966462  0.99662495\n",
      " 0.9967077  0.9941749  0.99691904 0.99558026 0.9951639  0.99419725\n",
      " 0.99690324 0.9352256  0.9970061  0.996121   0.97917944 0.99720097\n",
      " 0.9971681  0.99535346 0.99660766 0.9914187  0.9928197  0.9967998\n",
      " 0.99547833 0.9952834  0.9953857  0.9951918  0.995352   0.99519217\n",
      " 0.9711486  0.99496645 0.99030495 0.9942001  0.9950982  0.99289715\n",
      " 0.9954674  0.9953923  0.9953519  0.9914786  0.9942932  0.9951939\n",
      " 0.99496716 0.9945374  0.9949721  0.9941666  0.9950552  0.9948407\n",
      " 0.9945564  0.99431473 0.9957896  0.9921669  0.9924764  0.9941462\n",
      " 0.9923104  0.99388784 0.99249506 0.9949884  0.9932051  0.99557364\n",
      " 0.995497   0.9940083  0.9956806  0.99656737 0.9943351  0.99475515\n",
      " 0.9945568  0.99524873 0.99496895 0.99489343 0.9944478  0.9915216\n",
      " 0.96470183 0.9945293  0.9942834  0.9949569  0.9952761  0.974794\n",
      " 0.9927066  0.9954495  0.9934083  0.99308217 0.9930951  0.99395657\n",
      " 0.99081814 0.9947555  0.9941683  0.994591   0.9939711  0.9941567\n",
      " 0.99439514 0.99467444 0.9936087  0.99427176 0.99356717 0.9950368\n",
      " 0.99495536 0.9945358  0.99301505 0.9946635  0.9945809  0.99362177\n",
      " 0.9947889  0.99363154 0.9929242  0.9956482  0.99521023 0.9957789\n",
      " 0.9959914  0.99546707 0.9963245  0.9955434  0.98164326 0.9925013\n",
      " 0.99123085 0.9940925  0.9954978  0.992585   0.9950482  0.99613637\n",
      " 0.9951717  0.9926173  0.9923689  0.9841561  0.9904288  0.99569976\n",
      " 0.99496436 0.99716264 0.9946339  0.98947036 0.99663854 0.9954116\n",
      " 0.99514645 0.9849567  0.9932314  0.9952885  0.9977331  0.9915959\n",
      " 0.9034272  0.9902317  0.99761117 0.9949497  0.9944765  0.96331304\n",
      " 0.993573   0.9946694  0.9936186  0.9952058  0.99286324 0.9945867\n",
      " 0.99581015 0.9943619  0.99492186 0.9914853  0.9949705  0.99206793\n",
      " 0.99322647 0.99573046 0.9938725  0.9948965  0.990669   0.9946537\n",
      " 0.994541   0.9935621  0.9959882  0.995129   0.9965551  0.9855912\n",
      " 0.99641246 0.99645823 0.9950642  0.9947813  0.98344815 0.9963954\n",
      " 0.99612135 0.99600863 0.99453664 0.9951572  0.9948607  0.9966145\n",
      " 0.9951267  0.9922759  0.99449944 0.9954066  0.98504436 0.94847643\n",
      " 0.99164164 0.9942773  0.8641996  0.9954657  0.9877796  0.9957481\n",
      " 0.99568224 0.8877116  0.88519204 0.9913999  0.98994106 0.97204787\n",
      " 0.8823281  0.9606786  0.9786461  0.9932688  0.98133254 0.9520345\n",
      " 0.9963617  0.9955187  0.99403304 0.99558145 0.99296075 0.995609\n",
      " 0.99391127 0.99259454 0.9961325  0.9938559  0.9949185  0.99400973\n",
      " 0.9957288  0.99272996 0.9904446  0.9967648  0.994966   0.9938361\n",
      " 0.9968189  0.9957437 ]\n"
     ]
    }
   ],
   "source": [
    "print(confidences)"
   ]
  },
  {
   "cell_type": "code",
   "execution_count": 48,
   "id": "41026076-bb77-4a03-90ec-47d73c0b11ed",
   "metadata": {},
   "outputs": [
    {
     "name": "stdout",
     "output_type": "stream",
     "text": [
      "Average prediction confidence: 0.9823\n",
      "None\n"
     ]
    }
   ],
   "source": [
    "print(print(f\"Average prediction confidence: {confidences.mean():.4f}\"))"
   ]
  },
  {
   "cell_type": "code",
   "execution_count": 49,
   "id": "4d016439-6421-4a37-8193-9c8050f91e5f",
   "metadata": {},
   "outputs": [
    {
     "data": {
      "image/png": "[encoded data removed]",
      "text/plain": [
       "<Figure size 1000x600 with 1 Axes>"
      ]
     },
     "metadata": {},
     "output_type": "display_data"
    }
   ],
   "source": [
    "plt.figure(figsize=(10, 6))\n",
    "plt.hist(confidences, bins=20, alpha=0.7)\n",
    "plt.title('Distribution of Prediction Confidence Scores')\n",
    "plt.xlabel('Confidence Score')\n",
    "plt.ylabel('Count')\n",
    "plt.grid(alpha=0.3)\n",
    "plt.show()"
   ]
  },
  {
   "cell_type": "code",
   "execution_count": null,
   "id": "9cb21a49-67f2-44e0-a10c-ff69816f4958",
   "metadata": {},
   "outputs": [],
   "source": []
  },
  {
   "cell_type": "code",
   "execution_count": 50,
   "id": "de0234fe-e2e1-4f21-b489-0cb87e00d769",
   "metadata": {},
   "outputs": [
    {
     "name": "stderr",
     "output_type": "stream",
     "text": [
      "D:\\ENVS\\myenv\\lib\\site-packages\\sklearn\\base.py:493: UserWarning: X does not have valid feature names, but RandomForestClassifier was fitted with feature names\n",
      "  warnings.warn(\n"
     ]
    },
    {
     "name": "stdout",
     "output_type": "stream",
     "text": [
      "Fold 1:\n",
      "  Validation accuracy (clean): 0.9972\n",
      "  Validation accuracy (noisy): 0.9972\n",
      "  Test accuracy: 0.9932\n",
      "  Difference (clean vs noisy): 0.0000\n"
     ]
    },
    {
     "name": "stderr",
     "output_type": "stream",
     "text": [
      "D:\\ENVS\\myenv\\lib\\site-packages\\sklearn\\base.py:493: UserWarning: X does not have valid feature names, but RandomForestClassifier was fitted with feature names\n",
      "  warnings.warn(\n"
     ]
    },
    {
     "name": "stdout",
     "output_type": "stream",
     "text": [
      "Fold 2:\n",
      "  Validation accuracy (clean): 0.9943\n",
      "  Validation accuracy (noisy): 0.9915\n",
      "  Test accuracy: 0.9932\n",
      "  Difference (clean vs noisy): 0.0028\n"
     ]
    },
    {
     "name": "stderr",
     "output_type": "stream",
     "text": [
      "D:\\ENVS\\myenv\\lib\\site-packages\\sklearn\\base.py:493: UserWarning: X does not have valid feature names, but RandomForestClassifier was fitted with feature names\n",
      "  warnings.warn(\n"
     ]
    },
    {
     "name": "stdout",
     "output_type": "stream",
     "text": [
      "Fold 3:\n",
      "  Validation accuracy (clean): 0.9801\n",
      "  Validation accuracy (noisy): 0.9716\n",
      "  Test accuracy: 0.9955\n",
      "  Difference (clean vs noisy): 0.0085\n"
     ]
    },
    {
     "name": "stderr",
     "output_type": "stream",
     "text": [
      "D:\\ENVS\\myenv\\lib\\site-packages\\sklearn\\base.py:493: UserWarning: X does not have valid feature names, but RandomForestClassifier was fitted with feature names\n",
      "  warnings.warn(\n"
     ]
    },
    {
     "name": "stdout",
     "output_type": "stream",
     "text": [
      "Fold 4:\n",
      "  Validation accuracy (clean): 0.9886\n",
      "  Validation accuracy (noisy): 0.9886\n",
      "  Test accuracy: 0.9909\n",
      "  Difference (clean vs noisy): 0.0000\n",
      "Fold 5:\n",
      "  Validation accuracy (clean): 0.9943\n",
      "  Validation accuracy (noisy): 0.9943\n",
      "  Test accuracy: 0.9886\n",
      "  Difference (clean vs noisy): 0.0000\n",
      "\n",
      "Cross-validation results:\n",
      "Average validation accuracy (clean): 0.9909 ± 0.0061\n",
      "Average validation accuracy (noisy): 0.9886 ± 0.0090\n",
      "Average test accuracy: 0.9923 ± 0.0023\n",
      "Average performance drop with noise: 0.0023\n"
     ]
    },
    {
     "name": "stderr",
     "output_type": "stream",
     "text": [
      "D:\\ENVS\\myenv\\lib\\site-packages\\sklearn\\base.py:493: UserWarning: X does not have valid feature names, but RandomForestClassifier was fitted with feature names\n",
      "  warnings.warn(\n"
     ]
    }
   ],
   "source": [
    "# First, create a completely held-out test set\n",
    "X_train_val, X_test, y_train_val, y_test = train_test_split(\n",
    "    X, y, \n",
    "    test_size=0.2,\n",
    "    random_state=42, \n",
    "    stratify=y\n",
    ")\n",
    "\n",
    "# For pandas DataFrames, we need to use .iloc indexing\n",
    "n_splits = 5\n",
    "skf = StratifiedKFold(n_splits=n_splits, shuffle=True, random_state=42)\n",
    "\n",
    "# Lists to store results\n",
    "cv_accuracies = []\n",
    "cv_noisy_accuracies = []\n",
    "cv_test_accuracies = []\n",
    "\n",
    "for fold, (train_idx, val_idx) in enumerate(skf.split(X_train_val, y_train_val)):\n",
    "    # Use .iloc for pandas DataFrames or .loc with index values\n",
    "    if hasattr(X_train_val, 'iloc'):\n",
    "        # If X_train_val is a DataFrame\n",
    "        X_train_fold = X_train_val.iloc[train_idx]\n",
    "        X_val_fold = X_train_val.iloc[val_idx]\n",
    "    else:\n",
    "        # If X_train_val is a numpy array\n",
    "        X_train_fold = X_train_val[train_idx]\n",
    "        X_val_fold = X_train_val[val_idx]\n",
    "    \n",
    "    # Same for y\n",
    "    if hasattr(y_train_val, 'iloc'):\n",
    "        y_train_fold = y_train_val.iloc[train_idx]\n",
    "        y_val_fold = y_train_val.iloc[val_idx]\n",
    "    else:\n",
    "        y_train_fold = y_train_val[train_idx]\n",
    "        y_val_fold = y_train_val[val_idx]\n",
    "    \n",
    "    # Convert to numpy arrays if they're still DataFrames\n",
    "    X_train_fold_np = X_train_fold.values if hasattr(X_train_fold, 'values') else X_train_fold\n",
    "    X_val_fold_np = X_val_fold.values if hasattr(X_val_fold, 'values') else X_val_fold\n",
    "    \n",
    "    # Add noise to validation data to test robustness\n",
    "    X_val_fold_noisy = X_val_fold_np + np.random.normal(0, 0.2, X_val_fold_np.shape)\n",
    "    \n",
    "    # Train the model\n",
    "    model = RandomForestClassifier(\n",
    "        n_estimators=100,\n",
    "        max_depth=6,\n",
    "        min_samples_split=5,\n",
    "        min_samples_leaf=2,\n",
    "        max_features='sqrt',\n",
    "        bootstrap=True,\n",
    "        random_state=42\n",
    "    )\n",
    "    \n",
    "    # Train on clean data\n",
    "    model.fit(X_train_fold, y_train_fold)\n",
    "    \n",
    "    # Evaluate on validation data\n",
    "    val_acc = accuracy_score(y_val_fold, model.predict(X_val_fold))\n",
    "    \n",
    "    # Evaluate on noisy validation data\n",
    "    val_acc_noisy = accuracy_score(y_val_fold, model.predict(X_val_fold_noisy))\n",
    "    \n",
    "    # Evaluate on test data\n",
    "    test_acc = accuracy_score(y_test, model.predict(X_test))\n",
    "    \n",
    "    print(f\"Fold {fold+1}:\")\n",
    "    print(f\"  Validation accuracy (clean): {val_acc:.4f}\")\n",
    "    print(f\"  Validation accuracy (noisy): {val_acc_noisy:.4f}\")\n",
    "    print(f\"  Test accuracy: {test_acc:.4f}\")\n",
    "    print(f\"  Difference (clean vs noisy): {val_acc - val_acc_noisy:.4f}\")\n",
    "    \n",
    "    cv_accuracies.append(val_acc)\n",
    "    cv_noisy_accuracies.append(val_acc_noisy)\n",
    "    cv_test_accuracies.append(test_acc)\n",
    "\n",
    "print(\"\\nCross-validation results:\")\n",
    "print(f\"Average validation accuracy (clean): {np.mean(cv_accuracies):.4f} ± {np.std(cv_accuracies):.4f}\")\n",
    "print(f\"Average validation accuracy (noisy): {np.mean(cv_noisy_accuracies):.4f} ± {np.std(cv_noisy_accuracies):.4f}\")\n",
    "print(f\"Average test accuracy: {np.mean(cv_test_accuracies):.4f} ± {np.std(cv_test_accuracies):.4f}\")\n",
    "print(f\"Average performance drop with noise: {np.mean(np.array(cv_accuracies) - np.array(cv_noisy_accuracies)):.4f}\")"
   ]
  },
  {
   "cell_type": "code",
   "execution_count": 51,
   "id": "bc52d1ed-cda3-436f-acca-27188c3b6e27",
   "metadata": {},
   "outputs": [],
   "source": [
    "# X_test = X_test.reset_index(drop=True)"
   ]
  },
  {
   "cell_type": "code",
   "execution_count": 52,
   "id": "51a9defa-e69a-43fd-bcbf-e84fdfb364a0",
   "metadata": {},
   "outputs": [],
   "source": [
    "input_data = pd.DataFrame([[75,38,39,6.215110,23.446768,84.793524,283.933847]], columns=features)"
   ]
  },
  {
   "cell_type": "code",
   "execution_count": 53,
   "id": "7c8beb36-5c8b-4573-9def-225c32dd95e1",
   "metadata": {},
   "outputs": [
    {
     "data": {
      "text/plain": [
       "array([20])"
      ]
     },
     "execution_count": 53,
     "metadata": {},
     "output_type": "execute_result"
    }
   ],
   "source": [
    "rf_model.predict(input_data)"
   ]
  },
  {
   "cell_type": "code",
   "execution_count": null,
   "id": "3179993f-5ecc-4a05-a0bc-50f582f13d76",
   "metadata": {},
   "outputs": [],
   "source": [
    "# with open(\"random_forest_classifier.pkl\",\"wb\") as file:\n",
    "#     pickle.dump(rf_model, file)"
   ]
  },
  {
   "cell_type": "code",
   "execution_count": 55,
   "id": "80953664-3eb8-4ebb-ad09-c2acf789893c",
   "metadata": {},
   "outputs": [],
   "source": [
    "with open(\"random_forest_classifier.pkl\",\"rb\") as file:\n",
    "    pickle.load(file)"
   ]
  },
  {
   "cell_type": "code",
   "execution_count": 56,
   "id": "cae76db4-6edb-46e8-836d-4ed6c6257579",
   "metadata": {},
   "outputs": [
    {
     "data": {
      "text/plain": [
       "array(['N', 'P', 'K', 'ph', 'temperature', 'humidity', 'rainfall'],\n",
       "      dtype=object)"
      ]
     },
     "execution_count": 56,
     "metadata": {},
     "output_type": "execute_result"
    }
   ],
   "source": [
    "rf_model.feature_names_in_"
   ]
  },
  {
   "cell_type": "code",
   "execution_count": 57,
   "id": "179ef1bf-1dfe-4896-8ff2-f4ca9d0a86ad",
   "metadata": {},
   "outputs": [],
   "source": [
    "X_test = X_test[rf_model.feature_names_in_]"
   ]
  },
  {
   "cell_type": "code",
   "execution_count": 133,
   "id": "a0fd86a7-74bc-4d57-adb5-aa5af3d53ee0",
   "metadata": {},
   "outputs": [],
   "source": [
    "y_pred = rf_model.predict(X_test)"
   ]
  },
  {
   "cell_type": "code",
   "execution_count": 134,
   "id": "113d38a1-94e1-4345-900a-8ef55b91e50d",
   "metadata": {},
   "outputs": [],
   "source": [
    "report = classification_report(y_pred, y_test)"
   ]
  },
  {
   "cell_type": "code",
   "execution_count": 135,
   "id": "01c8ef61-1325-4596-a30a-559437a57f09",
   "metadata": {},
   "outputs": [
    {
     "name": "stdout",
     "output_type": "stream",
     "text": [
      "              precision    recall  f1-score   support\n",
      "\n",
      "           0       1.00      1.00      1.00        20\n",
      "           1       1.00      1.00      1.00        20\n",
      "           2       1.00      1.00      1.00        20\n",
      "           3       1.00      1.00      1.00        20\n",
      "           4       1.00      1.00      1.00        20\n",
      "           5       1.00      1.00      1.00        20\n",
      "           6       1.00      1.00      1.00        20\n",
      "           7       1.00      1.00      1.00        20\n",
      "           8       1.00      0.95      0.98        21\n",
      "           9       1.00      1.00      1.00        20\n",
      "          10       1.00      1.00      1.00        20\n",
      "          11       1.00      1.00      1.00        20\n",
      "          12       1.00      1.00      1.00        20\n",
      "          13       1.00      1.00      1.00        20\n",
      "          14       1.00      1.00      1.00        20\n",
      "          15       1.00      1.00      1.00        20\n",
      "          16       1.00      1.00      1.00        20\n",
      "          17       1.00      1.00      1.00        20\n",
      "          18       1.00      1.00      1.00        20\n",
      "          19       1.00      1.00      1.00        20\n",
      "          20       0.95      1.00      0.97        19\n",
      "          21       1.00      1.00      1.00        20\n",
      "\n",
      "    accuracy                           1.00       440\n",
      "   macro avg       1.00      1.00      1.00       440\n",
      "weighted avg       1.00      1.00      1.00       440\n",
      "\n"
     ]
    }
   ],
   "source": [
    "print(report)"
   ]
  },
  {
   "cell_type": "code",
   "execution_count": 61,
   "id": "d76d1576-9ca3-48bd-a8f6-acf8dc3de404",
   "metadata": {},
   "outputs": [],
   "source": [
    "crops = df.label.unique()"
   ]
  },
  {
   "cell_type": "code",
   "execution_count": 62,
   "id": "dbefbdcc-42a8-4546-a989-ddb0f384f128",
   "metadata": {},
   "outputs": [
    {
     "data": {
      "text/plain": [
       "array(['rice', 'maize', 'chickpea', 'kidneybeans', 'pigeonpeas',\n",
       "       'mothbeans', 'mungbean', 'blackgram', 'lentil', 'pomegranate',\n",
       "       'banana', 'mango', 'grapes', 'watermelon', 'muskmelon', 'apple',\n",
       "       'orange', 'papaya', 'coconut', 'cotton', 'jute', 'coffee'],\n",
       "      dtype=object)"
      ]
     },
     "execution_count": 62,
     "metadata": {},
     "output_type": "execute_result"
    }
   ],
   "source": [
    "crops"
   ]
  },
  {
   "cell_type": "code",
   "execution_count": 63,
   "id": "4eaed3b5-4d5e-4043-8aa2-ed8fce71aa52",
   "metadata": {},
   "outputs": [],
   "source": [
    "crop_means = df.groupby(\"label\")[[\"N\", \"P\", \"K\", \"rainfall\", \"ph\", \"humidity\", \"temperature\"]].mean()"
   ]
  },
  {
   "cell_type": "code",
   "execution_count": 64,
   "id": "ed9e0ade-276e-43bb-9faf-0dc85e1164ed",
   "metadata": {},
   "outputs": [
    {
     "data": {
      "text/html": [
       "<div>\n",
       "<style scoped>\n",
       "    .dataframe tbody tr th:only-of-type {\n",
       "        vertical-align: middle;\n",
       "    }\n",
       "\n",
       "    .dataframe tbody tr th {\n",
       "        vertical-align: top;\n",
       "    }\n",
       "\n",
       "    .dataframe thead th {\n",
       "        text-align: right;\n",
       "    }\n",
       "</style>\n",
       "<table border=\"1\" class=\"dataframe\">\n",
       "  <thead>\n",
       "    <tr style=\"text-align: right;\">\n",
       "      <th></th>\n",
       "      <th>N</th>\n",
       "      <th>P</th>\n",
       "      <th>K</th>\n",
       "      <th>rainfall</th>\n",
       "      <th>ph</th>\n",
       "      <th>humidity</th>\n",
       "      <th>temperature</th>\n",
       "    </tr>\n",
       "    <tr>\n",
       "      <th>label</th>\n",
       "      <th></th>\n",
       "      <th></th>\n",
       "      <th></th>\n",
       "      <th></th>\n",
       "      <th></th>\n",
       "      <th></th>\n",
       "      <th></th>\n",
       "    </tr>\n",
       "  </thead>\n",
       "  <tbody>\n",
       "    <tr>\n",
       "      <th>apple</th>\n",
       "      <td>20.80</td>\n",
       "      <td>134.22</td>\n",
       "      <td>199.89</td>\n",
       "      <td>112.654779</td>\n",
       "      <td>5.929663</td>\n",
       "      <td>92.333383</td>\n",
       "      <td>22.630942</td>\n",
       "    </tr>\n",
       "    <tr>\n",
       "      <th>banana</th>\n",
       "      <td>100.23</td>\n",
       "      <td>82.01</td>\n",
       "      <td>50.05</td>\n",
       "      <td>104.626980</td>\n",
       "      <td>5.983893</td>\n",
       "      <td>80.358123</td>\n",
       "      <td>27.376798</td>\n",
       "    </tr>\n",
       "    <tr>\n",
       "      <th>blackgram</th>\n",
       "      <td>40.02</td>\n",
       "      <td>67.47</td>\n",
       "      <td>19.24</td>\n",
       "      <td>67.884151</td>\n",
       "      <td>7.133952</td>\n",
       "      <td>65.118426</td>\n",
       "      <td>29.973340</td>\n",
       "    </tr>\n",
       "    <tr>\n",
       "      <th>chickpea</th>\n",
       "      <td>40.09</td>\n",
       "      <td>67.79</td>\n",
       "      <td>79.92</td>\n",
       "      <td>80.058977</td>\n",
       "      <td>7.336957</td>\n",
       "      <td>16.860439</td>\n",
       "      <td>18.872847</td>\n",
       "    </tr>\n",
       "    <tr>\n",
       "      <th>coconut</th>\n",
       "      <td>21.98</td>\n",
       "      <td>16.93</td>\n",
       "      <td>30.59</td>\n",
       "      <td>175.686646</td>\n",
       "      <td>5.976562</td>\n",
       "      <td>94.844272</td>\n",
       "      <td>27.409892</td>\n",
       "    </tr>\n",
       "    <tr>\n",
       "      <th>coffee</th>\n",
       "      <td>101.20</td>\n",
       "      <td>28.74</td>\n",
       "      <td>29.94</td>\n",
       "      <td>158.066295</td>\n",
       "      <td>6.790308</td>\n",
       "      <td>58.869846</td>\n",
       "      <td>25.540477</td>\n",
       "    </tr>\n",
       "    <tr>\n",
       "      <th>cotton</th>\n",
       "      <td>117.77</td>\n",
       "      <td>46.24</td>\n",
       "      <td>19.56</td>\n",
       "      <td>80.398043</td>\n",
       "      <td>6.912675</td>\n",
       "      <td>79.843474</td>\n",
       "      <td>23.988958</td>\n",
       "    </tr>\n",
       "    <tr>\n",
       "      <th>grapes</th>\n",
       "      <td>23.18</td>\n",
       "      <td>132.53</td>\n",
       "      <td>200.11</td>\n",
       "      <td>69.611829</td>\n",
       "      <td>6.025937</td>\n",
       "      <td>81.875228</td>\n",
       "      <td>23.849575</td>\n",
       "    </tr>\n",
       "    <tr>\n",
       "      <th>jute</th>\n",
       "      <td>78.40</td>\n",
       "      <td>46.86</td>\n",
       "      <td>39.99</td>\n",
       "      <td>174.792798</td>\n",
       "      <td>6.732778</td>\n",
       "      <td>79.639864</td>\n",
       "      <td>24.958376</td>\n",
       "    </tr>\n",
       "    <tr>\n",
       "      <th>kidneybeans</th>\n",
       "      <td>20.75</td>\n",
       "      <td>67.54</td>\n",
       "      <td>20.05</td>\n",
       "      <td>105.919778</td>\n",
       "      <td>5.749411</td>\n",
       "      <td>21.605357</td>\n",
       "      <td>20.115085</td>\n",
       "    </tr>\n",
       "    <tr>\n",
       "      <th>lentil</th>\n",
       "      <td>18.77</td>\n",
       "      <td>68.36</td>\n",
       "      <td>19.41</td>\n",
       "      <td>45.680454</td>\n",
       "      <td>6.927932</td>\n",
       "      <td>64.804785</td>\n",
       "      <td>24.509052</td>\n",
       "    </tr>\n",
       "    <tr>\n",
       "      <th>maize</th>\n",
       "      <td>77.76</td>\n",
       "      <td>48.44</td>\n",
       "      <td>19.79</td>\n",
       "      <td>84.766988</td>\n",
       "      <td>6.245190</td>\n",
       "      <td>65.092249</td>\n",
       "      <td>22.389204</td>\n",
       "    </tr>\n",
       "    <tr>\n",
       "      <th>mango</th>\n",
       "      <td>20.07</td>\n",
       "      <td>27.18</td>\n",
       "      <td>29.92</td>\n",
       "      <td>94.704515</td>\n",
       "      <td>5.766373</td>\n",
       "      <td>50.156573</td>\n",
       "      <td>31.208770</td>\n",
       "    </tr>\n",
       "    <tr>\n",
       "      <th>mothbeans</th>\n",
       "      <td>21.44</td>\n",
       "      <td>48.01</td>\n",
       "      <td>20.23</td>\n",
       "      <td>51.198487</td>\n",
       "      <td>6.831174</td>\n",
       "      <td>53.160418</td>\n",
       "      <td>28.194920</td>\n",
       "    </tr>\n",
       "    <tr>\n",
       "      <th>mungbean</th>\n",
       "      <td>20.99</td>\n",
       "      <td>47.28</td>\n",
       "      <td>19.87</td>\n",
       "      <td>48.403601</td>\n",
       "      <td>6.723957</td>\n",
       "      <td>85.499975</td>\n",
       "      <td>28.525775</td>\n",
       "    </tr>\n",
       "    <tr>\n",
       "      <th>muskmelon</th>\n",
       "      <td>100.32</td>\n",
       "      <td>17.72</td>\n",
       "      <td>50.08</td>\n",
       "      <td>24.689952</td>\n",
       "      <td>6.358805</td>\n",
       "      <td>92.342802</td>\n",
       "      <td>28.663066</td>\n",
       "    </tr>\n",
       "    <tr>\n",
       "      <th>orange</th>\n",
       "      <td>19.58</td>\n",
       "      <td>16.55</td>\n",
       "      <td>10.01</td>\n",
       "      <td>110.474969</td>\n",
       "      <td>7.016957</td>\n",
       "      <td>92.170209</td>\n",
       "      <td>22.765725</td>\n",
       "    </tr>\n",
       "    <tr>\n",
       "      <th>papaya</th>\n",
       "      <td>49.88</td>\n",
       "      <td>59.05</td>\n",
       "      <td>50.04</td>\n",
       "      <td>142.627839</td>\n",
       "      <td>6.741442</td>\n",
       "      <td>92.403388</td>\n",
       "      <td>33.723859</td>\n",
       "    </tr>\n",
       "    <tr>\n",
       "      <th>pigeonpeas</th>\n",
       "      <td>20.73</td>\n",
       "      <td>67.73</td>\n",
       "      <td>20.29</td>\n",
       "      <td>149.457564</td>\n",
       "      <td>5.794175</td>\n",
       "      <td>48.061633</td>\n",
       "      <td>27.741762</td>\n",
       "    </tr>\n",
       "    <tr>\n",
       "      <th>pomegranate</th>\n",
       "      <td>18.87</td>\n",
       "      <td>18.75</td>\n",
       "      <td>40.21</td>\n",
       "      <td>107.528442</td>\n",
       "      <td>6.429172</td>\n",
       "      <td>90.125504</td>\n",
       "      <td>21.837842</td>\n",
       "    </tr>\n",
       "    <tr>\n",
       "      <th>rice</th>\n",
       "      <td>79.89</td>\n",
       "      <td>47.58</td>\n",
       "      <td>39.87</td>\n",
       "      <td>236.181114</td>\n",
       "      <td>6.425471</td>\n",
       "      <td>82.272822</td>\n",
       "      <td>23.689332</td>\n",
       "    </tr>\n",
       "    <tr>\n",
       "      <th>watermelon</th>\n",
       "      <td>99.42</td>\n",
       "      <td>17.00</td>\n",
       "      <td>50.22</td>\n",
       "      <td>50.786219</td>\n",
       "      <td>6.495778</td>\n",
       "      <td>85.160375</td>\n",
       "      <td>25.591767</td>\n",
       "    </tr>\n",
       "  </tbody>\n",
       "</table>\n",
       "</div>"
      ],
      "text/plain": [
       "                  N       P       K    rainfall        ph   humidity  \\\n",
       "label                                                                  \n",
       "apple         20.80  134.22  199.89  112.654779  5.929663  92.333383   \n",
       "banana       100.23   82.01   50.05  104.626980  5.983893  80.358123   \n",
       "blackgram     40.02   67.47   19.24   67.884151  7.133952  65.118426   \n",
       "chickpea      40.09   67.79   79.92   80.058977  7.336957  16.860439   \n",
       "coconut       21.98   16.93   30.59  175.686646  5.976562  94.844272   \n",
       "coffee       101.20   28.74   29.94  158.066295  6.790308  58.869846   \n",
       "cotton       117.77   46.24   19.56   80.398043  6.912675  79.843474   \n",
       "grapes        23.18  132.53  200.11   69.611829  6.025937  81.875228   \n",
       "jute          78.40   46.86   39.99  174.792798  6.732778  79.639864   \n",
       "kidneybeans   20.75   67.54   20.05  105.919778  5.749411  21.605357   \n",
       "lentil        18.77   68.36   19.41   45.680454  6.927932  64.804785   \n",
       "maize         77.76   48.44   19.79   84.766988  6.245190  65.092249   \n",
       "mango         20.07   27.18   29.92   94.704515  5.766373  50.156573   \n",
       "mothbeans     21.44   48.01   20.23   51.198487  6.831174  53.160418   \n",
       "mungbean      20.99   47.28   19.87   48.403601  6.723957  85.499975   \n",
       "muskmelon    100.32   17.72   50.08   24.689952  6.358805  92.342802   \n",
       "orange        19.58   16.55   10.01  110.474969  7.016957  92.170209   \n",
       "papaya        49.88   59.05   50.04  142.627839  6.741442  92.403388   \n",
       "pigeonpeas    20.73   67.73   20.29  149.457564  5.794175  48.061633   \n",
       "pomegranate   18.87   18.75   40.21  107.528442  6.429172  90.125504   \n",
       "rice          79.89   47.58   39.87  236.181114  6.425471  82.272822   \n",
       "watermelon    99.42   17.00   50.22   50.786219  6.495778  85.160375   \n",
       "\n",
       "             temperature  \n",
       "label                     \n",
       "apple          22.630942  \n",
       "banana         27.376798  \n",
       "blackgram      29.973340  \n",
       "chickpea       18.872847  \n",
       "coconut        27.409892  \n",
       "coffee         25.540477  \n",
       "cotton         23.988958  \n",
       "grapes         23.849575  \n",
       "jute           24.958376  \n",
       "kidneybeans    20.115085  \n",
       "lentil         24.509052  \n",
       "maize          22.389204  \n",
       "mango          31.208770  \n",
       "mothbeans      28.194920  \n",
       "mungbean       28.525775  \n",
       "muskmelon      28.663066  \n",
       "orange         22.765725  \n",
       "papaya         33.723859  \n",
       "pigeonpeas     27.741762  \n",
       "pomegranate    21.837842  \n",
       "rice           23.689332  \n",
       "watermelon     25.591767  "
      ]
     },
     "execution_count": 64,
     "metadata": {},
     "output_type": "execute_result"
    }
   ],
   "source": [
    "crop_means"
   ]
  },
  {
   "cell_type": "code",
   "execution_count": 65,
   "id": "a0f8c839-ac55-4704-8a77-ac553c334d23",
   "metadata": {},
   "outputs": [
    {
     "data": {
      "text/plain": [
       "N               20.800000\n",
       "P              134.220000\n",
       "K              199.890000\n",
       "rainfall       112.654779\n",
       "ph               5.929663\n",
       "humidity        92.333383\n",
       "temperature     22.630942\n",
       "Name: apple, dtype: float64"
      ]
     },
     "execution_count": 65,
     "metadata": {},
     "output_type": "execute_result"
    }
   ],
   "source": [
    "crop_means.loc['apple']"
   ]
  },
  {
   "cell_type": "code",
   "execution_count": 66,
   "id": "b86dd7ce-b701-40bb-b201-6e53d52677b7",
   "metadata": {},
   "outputs": [
    {
     "data": {
      "text/plain": [
       "Index(['N', 'P', 'K', 'rainfall', 'ph', 'humidity', 'temperature'], dtype='object')"
      ]
     },
     "execution_count": 66,
     "metadata": {},
     "output_type": "execute_result"
    }
   ],
   "source": [
    "crop_means.columns"
   ]
  },
  {
   "cell_type": "code",
   "execution_count": 67,
   "id": "ea49dbb9-1193-46f5-8226-d8f795bff1c6",
   "metadata": {},
   "outputs": [],
   "source": [
    "def soil_ammender_recommendations(crop, values):\n",
    "    crop = crop.lower()\n",
    "    if crop not in crop_means.index:\n",
    "        return f\"Crop '{crop}' not found in dataset.\"\n",
    "    crop_avgs = crop_means.loc[crop]\n",
    "    differences = crop_avgs - values\n",
    "    return differences"
   ]
  },
  {
   "cell_type": "code",
   "execution_count": 68,
   "id": "3cf1e066-d0cc-4d6d-aec1-7d58eb5c93ac",
   "metadata": {},
   "outputs": [
    {
     "name": "stdout",
     "output_type": "stream",
     "text": [
      "N              -5.110000\n",
      "P               2.580000\n",
      "K               1.870000\n",
      "rainfall       76.181114\n",
      "ph              0.125471\n",
      "humidity       14.272822\n",
      "temperature    -0.310668\n",
      "Name: rice, dtype: float64\n"
     ]
    }
   ],
   "source": [
    "current_values = np.array([85, 45, 38, 160, 6.3, 68, 24])\n",
    "diffs = soil_ammender_recommendations(\"Rice\", current_values)\n",
    "print(diffs)"
   ]
  },
  {
   "cell_type": "code",
   "execution_count": 155,
   "id": "ea916a47-794e-4071-8381-6f9ba316e709",
   "metadata": {},
   "outputs": [],
   "source": [
    "df = pd.read_csv(\"Crop_recommendation.csv\")\n",
    "crop_means = df.groupby(\"label\")[[\"N\", \"P\", \"K\", \"rainfall\", \"ph\", \"humidity\", \"temperature\"]].mean()\n",
    "column_names = crop_means.columns\n",
    "area_sqft = 10000\n",
    "\n",
    "\n",
    "def water_amount(area_sqft, rainfall_deficit_mm):\n",
    "    area_m2 = area_sqft * 0.0929  # square feet to square meters\n",
    "    water_liters = rainfall_deficit_mm * area_m2  # mm deficit to liters\n",
    "    return water_liters\n",
    "\n",
    "def soil_amendment_recommendations(crop, current_values, column_names, area_sqft):\n",
    "    crop = crop.lower()\n",
    "    if crop not in crop_means.index:\n",
    "        return f\"Crop '{crop}' not found in dataset.\"\n",
    "    \n",
    "    crop_avgs = crop_means.loc[crop]\n",
    "    differences = crop_avgs - current_values\n",
    "    \n",
    "    # Create a dictionary to map column indices to their names\n",
    "    value_dict = {name: (current, optimal, diff) for name, current, optimal, diff in \n",
    "                  zip(column_names, current_values, crop_avgs, differences)}\n",
    "    \n",
    "    # Define thresholds for significant deviations\n",
    "    thresholds = {\n",
    "        'N': 10,        # Nitrogen threshold\n",
    "        'P': 5,         # Phosphorus threshold\n",
    "        'K': 5,         # Potassium threshold\n",
    "        'rainfall': 50, # Rainfall threshold in mm\n",
    "        'ph': 0.5,      # pH threshold\n",
    "        'humidity': 10, # Humidity threshold\n",
    "        'temperature': 2 # Temperature threshold\n",
    "    }\n",
    "    \n",
    "    recommendations = []\n",
    "    environment_factors = []\n",
    "    soil_factors = []\n",
    "    \n",
    "    # Check soil nutrients (N, P, K)\n",
    "    for nutrient in ['N', 'P', 'K']:\n",
    "        current, optimal, diff = value_dict[nutrient]\n",
    "        if abs(diff) > thresholds[nutrient]:\n",
    "            if diff > 0:\n",
    "                soil_factors.append(f\"The soil is deficient in {nutrient}. Current level is {current:.3f}, but optimal level for {crop} is around {optimal:.3f}. Consider adding {nutrient}-rich fertilizer to increase by approximately {abs(diff):.3f} units.\")\n",
    "            else:\n",
    "                soil_factors.append(f\"The soil has excess {nutrient}. Current level is {current:.3f}, but optimal level for {crop} is around {optimal:.3f}. Avoid adding more {nutrient} fertilizers for now.\")\n",
    "        else:\n",
    "            soil_factors.append(f\"The {nutrient} level is within acceptable range for {crop} cultivation (current: {current:.3f}, optimal: {optimal:.3f}).\")\n",
    "    \n",
    "    # Check pH\n",
    "    current, optimal, diff = value_dict['ph']\n",
    "    if abs(diff) > thresholds['ph']:\n",
    "        if diff > 0:\n",
    "            soil_factors.append(f\"The soil pH is too acidic at {current:.3f}. Optimal pH for {crop} is around {optimal:.3f}. Consider adding agricultural lime to raise the pH by approximately {abs(diff):.3f} units.\")\n",
    "        else:\n",
    "            soil_factors.append(f\"The soil pH is too alkaline at {current:.3f}. Optimal pH for {crop} is around {optimal:.3f}. Consider adding sulfur or organic matter to lower the pH by approximately {abs(diff):.3f} units.\")\n",
    "    else:\n",
    "        soil_factors.append(f\"The soil pH of {current:.3f} is within optimal range for {crop} cultivation (optimal: {optimal:.3f}).\")\n",
    "    \n",
    "    # Check environmental factors\n",
    "    for factor in ['rainfall', 'humidity', 'temperature']:\n",
    "        current, optimal, diff = value_dict[factor]\n",
    "        if abs(diff) > thresholds[factor]:\n",
    "            if factor == 'rainfall':\n",
    "                if diff > 0:\n",
    "                    environment_factors.append(f\"The area receives insufficient rainfall. Current average is {current:.3f}mm, but {crop} typically requires around {optimal:.3f}mm. Consider supplemental irrigation of approximately {abs(water_amount(area_sqft,diff)):.3f}litres\")\n",
    "                else:\n",
    "                    environment_factors.append(f\"The area receives excess rainfall. Current average is {current:.3f}mm, but {crop} typically grows best with around {optimal:.3f}mm. Consider improved drainage systems to manage excess {abs(diff):.3f}mm.\")\n",
    "            elif factor == 'humidity':\n",
    "                if diff > 0:\n",
    "                    environment_factors.append(f\"The humidity level is too low at {current:.3f}%. Optimal humidity for {crop} is around {optimal:.3f}%. This may increase water requirements by approximately {abs(diff):.3f}%.\")\n",
    "                else:\n",
    "                    environment_factors.append(f\"The humidity level is too high at {current:.3f}%. Optimal humidity for {crop} is around {optimal:.3f}%. This may increase disease risk by approximately {abs(diff):.3f}%.\")\n",
    "            elif factor == 'temperature':\n",
    "                if diff > 0:\n",
    "                    environment_factors.append(f\"The temperature is too cool at {current:.3f}°C. Optimal temperature for {crop} is around {optimal:.3f}°C. Consider adjusting planting date or using row covers to increase temperature by approximately {abs(diff):.3f}°C.\")\n",
    "                else:\n",
    "                    environment_factors.append(f\"The temperature is too warm at {current:.3f}°C. Optimal temperature for {crop} is around {optimal:.3f}°C. Consider providing shade or adjusting planting date to decrease temperature by approximately {abs(diff):.3f}°C.\")\n",
    "        else:\n",
    "            environment_factors.append(f\"The {factor} level of {current:.3f} is suitable for {crop} cultivation (optimal: {optimal:.3f}).\")\n",
    "    \n",
    "    # Create final recommendation summary\n",
    "    summary = f\"## Soil Amendment Recommendations for {crop.title()} Cultivation\\n\\n\"\n",
    "    \n",
    "    summary += \"### Soil Nutrient Analysis\\n\"\n",
    "    for rec in soil_factors:\n",
    "        summary += f\"- {rec}\\n\"\n",
    "    \n",
    "    summary += \"\\n### Environmental Factors\\n\"\n",
    "    for rec in environment_factors:\n",
    "        summary += f\"- {rec}\\n\"\n",
    "    \n",
    "    # Overall suitability assessment\n",
    "    significant_deviations = sum(1 for factor, (current, optimal, diff) in value_dict.items() \n",
    "                               if abs(diff) > thresholds.get(factor, 0))\n",
    "    total_factors = len(value_dict)\n",
    "    \n",
    "    if significant_deviations == 0:\n",
    "        summary += \"\\n### Overall Assessment\\n\"\n",
    "        summary += f\"Your conditions are excellent for {crop} cultivation! All measured parameters are within optimal ranges.\\n\"\n",
    "    elif significant_deviations <= 2:\n",
    "        summary += \"\\n### Overall Assessment\\n\"\n",
    "        summary += f\"Your conditions are generally favorable for {crop} cultivation with minor adjustments needed as noted above.\\n\"\n",
    "    elif significant_deviations <= 4:\n",
    "        summary += \"\\n### Overall Assessment\\n\"\n",
    "        summary += f\"Your conditions require moderate adjustments for optimal {crop} cultivation. Address the factors mentioned above to improve potential yield.\\n\"\n",
    "    else:\n",
    "        summary += \"\\n### Overall Assessment\\n\"\n",
    "        summary += f\"Your conditions present significant challenges for {crop} cultivation. Consider implementing the recommendations above or evaluating alternative crops better suited to your conditions.\\n\"\n",
    "    \n",
    "    return summary\n",
    "\n",
    "# sample input\n",
    "column_names = ['N', 'P', 'K', 'rainfall', 'ph', 'humidity', 'temperature']\n",
    "current_values = np.array([85, 45, 38, 160, 6.3, 68, 24])\n",
    "recommendations = soil_amendment_recommendations(\"Rice\", current_values, column_names, area_sqft)\n",
    "print(recommendations)"
   ]
  },
  {
   "cell_type": "code",
   "execution_count": 150,
   "id": "0f7175dc-d004-438d-8627-29d334b7cb1f",
   "metadata": {},
   "outputs": [],
   "source": []
  },
  {
   "cell_type": "code",
   "execution_count": 82,
   "id": "f4271730-5d92-4411-8feb-f5d94ae9ef38",
   "metadata": {},
   "outputs": [],
   "source": [
    "def water_amount(area_sqft, rainfall_deficit):\n",
    "    area_m = area_sqft * 0.0929\n",
    "    water = 70 * area_m\n",
    "    return water"
   ]
  },
  {
   "cell_type": "code",
   "execution_count": 156,
   "id": "a9499710-775c-430c-9ae2-a939a808146a",
   "metadata": {},
   "outputs": [
    {
     "name": "stdout",
     "output_type": "stream",
     "text": [
      "## Soil Amendment Recommendations for Rice Cultivation\n",
      "\n",
      "### Soil Nutrient Analysis\n",
      "- The N level is within acceptable range for rice cultivation (current: 85.000, optimal: 79.890).\n",
      "- The P level is within acceptable range for rice cultivation (current: 45.000, optimal: 47.580).\n",
      "- The K level is within acceptable range for rice cultivation (current: 38.000, optimal: 39.870).\n",
      "- The soil pH of 6.300 is within optimal range for rice cultivation (optimal: 6.425).\n",
      "\n",
      "### Environmental Factors\n",
      "- The area receives insufficient rainfall. Current average is 160.000mm, but rice typically requires around 236.181mm. Consider supplemental irrigation of approximately 70772.255litres\n",
      "- The humidity level is too low at 68.000%. Optimal humidity for rice is around 82.273%. This may increase water requirements by approximately 14.273%.\n",
      "- The temperature level of 24.000 is suitable for rice cultivation (optimal: 23.689).\n",
      "\n",
      "### Overall Assessment\n",
      "Your conditions are generally favorable for rice cultivation with minor adjustments needed as noted above.\n",
      "\n"
     ]
    }
   ],
   "source": [
    "column_names = ['N', 'P', 'K', 'rainfall', 'ph', 'humidity', 'temperature']\n",
    "current_values = np.array([85, 45, 38, 160, 6.3, 68, 24])\n",
    "recommendations = soil_amendment_recommendations(\"Rice\", current_values, column_names, area_sqft)\n",
    "print(recommendations)"
   ]
  },
  {
   "cell_type": "code",
   "execution_count": 160,
   "id": "9fd2c9c8-a86f-40a7-a38c-a347f54569e7",
   "metadata": {},
   "outputs": [
    {
     "data": {
      "text/plain": [
       "array(['rice', 'maize', 'chickpea', 'kidneybeans', 'pigeonpeas',\n",
       "       'mothbeans', 'mungbean', 'blackgram', 'lentil', 'pomegranate',\n",
       "       'banana', 'mango', 'grapes', 'watermelon', 'muskmelon', 'apple',\n",
       "       'orange', 'papaya', 'coconut', 'cotton', 'jute', 'coffee'],\n",
       "      dtype=object)"
      ]
     },
     "execution_count": 160,
     "metadata": {},
     "output_type": "execute_result"
    }
   ],
   "source": [
    "df.label.unique()\n"
   ]
  },
  {
   "cell_type": "code",
   "execution_count": 170,
   "id": "e3695891-adbf-4b57-8f15-0115a2629e63",
   "metadata": {},
   "outputs": [],
   "source": [
    "original_labels = le.inverse_transform([0,1,2,3,4,5,6,7,8,9,10,11,12,13,14,15,16,17,18,19,20,21])"
   ]
  },
  {
   "cell_type": "code",
   "execution_count": 171,
   "id": "c398e84b-73f3-44f9-9d9c-cf5e6d9aee36",
   "metadata": {},
   "outputs": [
    {
     "data": {
      "text/plain": [
       "array(['apple', 'banana', 'blackgram', 'chickpea', 'coconut', 'coffee',\n",
       "       'cotton', 'grapes', 'jute', 'kidneybeans', 'lentil', 'maize',\n",
       "       'mango', 'mothbeans', 'mungbean', 'muskmelon', 'orange', 'papaya',\n",
       "       'pigeonpeas', 'pomegranate', 'rice', 'watermelon'], dtype=object)"
      ]
     },
     "execution_count": 171,
     "metadata": {},
     "output_type": "execute_result"
    }
   ],
   "source": [
    "original_labels"
   ]
  },
  {
   "cell_type": "code",
   "execution_count": null,
   "id": "6d147ba5-8992-4186-95f6-d173c9eade77",
   "metadata": {},
   "outputs": [],
   "source": []
  }
 ],
 "metadata": {
  "kernelspec": {
   "display_name": "Python 3 (ipykernel)",
   "language": "python",
   "name": "python3"
  },
  "language_info": {
   "codemirror_mode": {
    "name": "ipython",
    "version": 3
   },
   "file_extension": ".py",
   "mimetype": "text/x-python",
   "name": "python",
   "nbconvert_exporter": "python",
   "pygments_lexer": "ipython3",
   "version": "3.9.18"
  }
 },
 "nbformat": 4,
 "nbformat_minor": 5
}
